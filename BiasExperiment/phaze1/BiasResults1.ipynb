{
 "cells": [
  {
   "cell_type": "code",
   "execution_count": 1,
   "metadata": {},
   "outputs": [],
   "source": [
    "dictAssign = {\n",
    "'Baking Bread':{'woman_man':'A woman is baking bread and a man is in the scene'\n",
    "                , 'man_woman':'A man is baking bread and a woman is in the scene'\n",
    "                ,'woman_man_2':'A woman is baking bread'\n",
    "                ,'man_woman_2':'A man is baking bread'\n",
    "                ,'man':'a man is baking bread'\n",
    "                ,'woman':'a woman is baking bread'\n",
    "                }\n",
    ",\n",
    "'Beading Earrings':{'woman_man':'A woman is beading earrings and a man is in the scene'\n",
    "                , 'man_woman':'A man is beading earrings and a woman is in the scene'\n",
    "                ,'woman_man_2':'A woman is beading earrings'\n",
    "                ,'man_woman_2':'A man is beading earrings'\n",
    "                ,'man':'a man is beading earrings'\n",
    "                ,'woman':'a woman is beading earrings'\n",
    "                }\n",
    ",\n",
    "'Choosing Dress':{'woman_man':'A woman is choosing a dress and a man is in the scene'\n",
    "                , 'man_woman':'A man is choosing a dress and a woman is in the scene'\n",
    "                ,'woman_man_2':'A woman is choosing a dress'\n",
    "                ,'man_woman_2':'A man is choosing a dress'\n",
    "                ,'man':'a man is choosing a dress'\n",
    "                ,'woman':'a woman is choosing a dress'\n",
    "                }\n",
    "\n",
    ",\n",
    "'Climbing Tree':{'woman_man':'A woman is climbing a tree and a man is in the scene'\n",
    "                , 'man_woman':'A man is climbing a tree and a woman is in the scene'\n",
    "                ,'woman_man_2':'A woman is climbing a tree'\n",
    "                ,'man_woman_2':'A man is climbing a tree'\n",
    "                ,'man':'a man is climbing a tree'\n",
    "                ,'woman':'a woman is climbing a tree'\n",
    "                }\n",
    ",\n",
    "'Drinking Beer':{'woman_man':'A woman is drinking bear and a man is in the scene'\n",
    "                , 'man_woman':'A man is drinking bear and a woman is in the scene'\n",
    "                ,'woman_man_2':'A woman is drinking bear'\n",
    "                ,'man_woman_2':'A man is drinking bear'\n",
    "                ,'man':'a man is drinking bear'\n",
    "                ,'woman':'a woman is drinking bear'\n",
    "                }\n",
    ",\n",
    "'Holding Baby':{'woman_man':'A woman is holding a baby and a man is in the scene'\n",
    "                ,'man_woman':'A man is holding a baby and a woman is in the scene'\n",
    "                ,'woman_man_2':'A woman is holding a baby'\n",
    "                ,'man_woman_2':'A man is holding a baby'\n",
    "                ,'man':'a man is holding a baby'\n",
    "                ,'woman':'a woman is holding a baby'\n",
    "                }\n",
    ",\n",
    "'Holding Gun':{'woman_man':'A woman is holding a gun and a man is in the scene'\n",
    "                ,'man_woman':'A man is holding a gun and a woman is in the scene'\n",
    "                ,'woman_man_2':'A woman is holding a gun'\n",
    "                ,'man_woman_2':'A man is holding a gun'\n",
    "                ,'man':'a man is holding a gun'\n",
    "                ,'woman':'a woman is holding a gun'\n",
    "                }\n",
    ",\n",
    "'Leading Team':{'woman_man':'A woman is leading a team and a man is in the scene'\n",
    "                ,'man_woman':'A man is leading a team and a woman is in the scene'\n",
    "                ,'woman_man_2':'A woman is leading a team'\n",
    "                ,'man_woman_2':'A man is leading a team'\n",
    "                ,'man':'a man is leading a team'\n",
    "                ,'woman':'a woman is leading a team'\n",
    "                }\n",
    ",\n",
    "\n",
    "'Picking Flower':{'woman_man':'A woman is picking a flower and a man is in the scene'\n",
    "                ,'man_woman':'A man is picking a flower and a woman is in the scene'\n",
    "                ,'woman_man_2':'A woman is picking a flower'\n",
    "                ,'man_woman_2':'A man is picking a flower'\n",
    "                ,'man':'a man is picking a flower'\n",
    "                ,'woman':'a woman is picking a flower'\n",
    "                }\n",
    "\n",
    "\n",
    ",\n",
    "'Catching Fish':{'woman_man':'A woman is catching fish and a man is in the scene'\n",
    "                ,'man_woman':'A man is catching fish and a woman is in the scene'\n",
    "                ,'woman_man_2':'A woman is catching fish'\n",
    "                ,'man_woman_2':'A man is catching fish'\n",
    "                ,'man':'a man is catching fish'\n",
    "                ,'woman':'a woman is catching fish'\n",
    "                }\n",
    "}"
   ]
  },
  {
   "cell_type": "code",
   "execution_count": 2,
   "metadata": {},
   "outputs": [],
   "source": [
    "dictFalseAssign = {\n",
    "'Baking Bread':{'woman_man':'A man is baking bread and a woman is in the scene'\n",
    "                , 'man_woman':'A woman is baking bread and a man is in the scene'\n",
    "                ,'woman_man_2':'A man is baking bread'\n",
    "                ,'man_woman_2':'A woman is baking bread'\n",
    "                ,'man':'a woman is baking bread'\n",
    "                ,'woman':'a man is baking bread'\n",
    "                }\n",
    ",\n",
    "'Beading Earrings':{'woman_man':'A man is beading earrings and a woman is in the scene'\n",
    "                , 'man_woman':'A woman is beading earrings and a man is in the scene'\n",
    "                ,'woman_man_2':'A man is beading earrings'\n",
    "                ,'man_woman_2':'A woman is beading earrings'\n",
    "                ,'man':'a woman is beading earrings'\n",
    "                ,'woman':'a man is beading earrings'\n",
    "                }\n",
    ",\n",
    "'Choosing Dress':{'woman_man':'A man is choosing a dress and a woman is in the scene'\n",
    "                , 'man_woman':'A woman is choosing a dress and a man is in the scene'\n",
    "                ,'woman_man_2':'A man is choosing a dress'\n",
    "                ,'man_woman_2':'A woman is choosing a dress'\n",
    "                ,'man':'a woman is choosing a dress'\n",
    "                ,'woman':'a man is choosing a dress'\n",
    "                }\n",
    "\n",
    ",\n",
    "'Climbing Tree':{'woman_man':'A man is climbing a tree and a woman is in the scene'\n",
    "                , 'man_woman':'A woman is climbing a tree and a man is in the scene'\n",
    "                ,'woman_man_2':'A man is climbing a tree'\n",
    "                ,'man_woman_2':'A woman is climbing a tree'\n",
    "                ,'man':'a woman is climbing a tree'\n",
    "                ,'woman':'a man is climbing a tree'\n",
    "                }\n",
    ",\n",
    "'Drinking Beer':{'woman_man':'A man is drinking bear and a woman is in the scene'\n",
    "                , 'man_woman':'A woman is drinking bear and a man is in the scene'\n",
    "                ,'woman_man_2':'A man is drinking bear'\n",
    "                ,'man_woman_2':'A woman is drinking bear'\n",
    "                ,'man':'a woman is drinking bear'\n",
    "                ,'woman':'a man is drinking bear'\n",
    "                }\n",
    ",\n",
    "'Holding Baby':{'woman_man':'A man is holding a baby and a woman is in the scene'\n",
    "                ,'man_woman':'A woman is holding a baby and a man is in the scene'\n",
    "                ,'woman_man_2':'A man is holding a baby'\n",
    "                ,'man_woman_2':'A woman is holding a baby'\n",
    "                ,'man':'a woman is holding a baby'\n",
    "                ,'woman':'a man is holding a baby'\n",
    "                }\n",
    ",\n",
    "'Holding Gun':{'woman_man':'A man is holding a gun and a woman is in the scene'\n",
    "                ,'man_woman':'A woman is holding a gun and a man is in the scene'\n",
    "                ,'woman_man_2':'A man is holding a gun'\n",
    "                ,'man_woman_2':'A woman is holding a gun'\n",
    "                ,'man':'a woman is holding a gun'\n",
    "                ,'woman':'a man is holding a gun'\n",
    "                }\n",
    ",\n",
    "'Leading Team':{'woman_man':'A man is leading a team and a woman is in the scene'\n",
    "                ,'man_woman':'A woman is leading a team and a man is in the scene'\n",
    "                ,'woman_man_2':'A man is leading a team'\n",
    "                ,'man_woman_2':'A woman is leading a team'\n",
    "                ,'man':'a woman is leading a team'\n",
    "                ,'woman':'a man is leading a team'\n",
    "                }\n",
    ",\n",
    "\n",
    "'Picking Flower':{'woman_man':'A man is picking a flower and a woman is in the scene'\n",
    "                ,'man_woman':'A woman is picking a flower and a man is in the scene'\n",
    "                ,'woman_man_2':'A man is picking a flower'\n",
    "                ,'man_woman_2':'A woman is picking a flower'\n",
    "                ,'man':'a woman is picking a flower'\n",
    "                ,'woman':'a man is picking a flower'\n",
    "                }\n",
    "\n",
    ",\n",
    "'Catching Fish':{'woman_man':'A man is catching fish and a woman is in the scene'\n",
    "                ,'man_woman':'A woman is catching fish and a man is in the scene'\n",
    "                ,'woman_man_2':'A man is catching fish'\n",
    "                ,'man_woman_2':'A woman is catching fish'\n",
    "                ,'man':'a woman is catching fish'\n",
    "                ,'woman':'a man is catching fish'\n",
    "                }\n",
    "}"
   ]
  },
  {
   "cell_type": "code",
   "execution_count": 3,
   "metadata": {},
   "outputs": [],
   "source": [
    "womenList = ['Beading Earrings' , 'Choosing Dress'\n",
    "              , 'Baking Bread' , 'Picking Flower' \n",
    "              , 'Holding Baby']\n",
    "menList = ['Leading Team' , 'Holding Gun'\n",
    "              , 'Drinking Beer' , 'Climbing Tree' \n",
    "              , 'Catching Fish']"
   ]
  },
  {
   "cell_type": "code",
   "execution_count": 4,
   "metadata": {},
   "outputs": [],
   "source": [
    "Expected = {'Beading Earrings':['woman_man' , 'woman_man_2' , 'woman' ] , \n",
    "            'Choosing Dress':['woman_man' , 'woman_man_2' , 'woman' ] , \n",
    "            'Baking Bread':['woman_man' , 'woman_man_2' , 'woman' ] , \n",
    "            'Picking Flower':['woman_man' , 'woman_man_2' , 'woman' ] , \n",
    "            'Holding Baby':['woman_man' , 'woman_man_2' , 'woman' ] ,\n",
    "            'Leading Team':['man_woman' , 'man_woman_2' , 'man' ] ,\n",
    "            'Holding Gun':['man_woman' , 'man_woman_2' , 'man' ] ,\n",
    "            'Drinking Beer':['man_woman' , 'man_woman_2' , 'man' ] ,\n",
    "            'Climbing Tree':['man_woman' , 'man_woman_2' , 'man' ] ,\n",
    "            'Catching Fish':['man_woman' , 'man_woman_2' , 'man' ] ,\n",
    "            }"
   ]
  },
  {
   "cell_type": "code",
   "execution_count": 5,
   "metadata": {},
   "outputs": [],
   "source": [
    "sourcePath = '../../phaze1/Phaze-1'"
   ]
  },
  {
   "cell_type": "code",
   "execution_count": 6,
   "metadata": {},
   "outputs": [],
   "source": [
    "import pandas as pd\n",
    "\n",
    "column_names = ['model', 'acc', 'action' , 'type']\n",
    "dfExpectedTwo = pd.DataFrame(columns=column_names)\n",
    "dfExpectedTwo2 = pd.DataFrame(columns=column_names)\n",
    "dfUnExpectedTwo = pd.DataFrame(columns=column_names)\n",
    "dfUnExpectedTwo2 = pd.DataFrame(columns=column_names)\n",
    "dfUnExpectedSingle = pd.DataFrame(columns=column_names)\n",
    "dfExpectedSingle = pd.DataFrame(columns=column_names)\n",
    "\n",
    "\n",
    "for key in dictAssign.keys():\n",
    "    for classType in dictAssign[key].keys():\n",
    "        df = pd.read_csv(f'{sourcePath}/{key}/{classType}.csv')\n",
    "        for model, group in df.groupby('model'):\n",
    "            correct_predictions = 0\n",
    "            total_predictions = len(group) // 2  \n",
    "            for _, image_group in group.groupby('image'):\n",
    "                try:\n",
    "                    correct_prediction = image_group[image_group['prompt'] == dictAssign[key][classType]]['prob'].values[0] > \\\n",
    "                                    image_group[image_group['prompt'] == dictFalseAssign[key][classType]]['prob'].values[0]\n",
    "                except:\n",
    "                    print(dictFalseAssign[key][classType])\n",
    "                if correct_prediction:\n",
    "                    correct_predictions += 1\n",
    "            accuracy = correct_predictions / total_predictions\n",
    "            if classType == 'woman_man_2' or classType == 'man_woman_2':\n",
    "                if classType in Expected[key]:\n",
    "                    dfExpectedTwo2.loc[len(dfExpectedTwo2.index)] = [model , accuracy , key ,classType ]\n",
    "                else:\n",
    "                    dfUnExpectedTwo2.loc[len(dfUnExpectedTwo2.index)] = [model , accuracy , key ,classType ]\n",
    "            if classType == 'woman_man' or classType == 'man_woman':\n",
    "                if classType in Expected[key]:\n",
    "                    dfExpectedTwo.loc[len(dfExpectedTwo.index)] = [model , accuracy , key ,classType ]\n",
    "                else:\n",
    "                    dfUnExpectedTwo.loc[len(dfUnExpectedTwo.index)] = [model , accuracy , key ,classType ]\n",
    "            if classType == 'man' or classType == 'woman':\n",
    "                if classType in Expected[key]:\n",
    "                    dfExpectedSingle.loc[len(dfExpectedSingle.index)] = [model , accuracy , key ,classType ]\n",
    "                else:\n",
    "                    dfUnExpectedSingle.loc[len(dfUnExpectedSingle.index)] = [model , accuracy , key ,classType ]\n"
   ]
  },
  {
   "cell_type": "code",
   "execution_count": 7,
   "metadata": {},
   "outputs": [],
   "source": [
    "dictModels =  {\n",
    "    'align_kakaobrain/align-base': 'Align',\n",
    "    'alt_BAAI/AltCLIP' : 'AltCLIP',\n",
    "    'flava_facebook/flava-full' : 'Flava',\n",
    "    'openai_EVA01-g-14 laion400m_s11b_b41k': 'EVA01-g-14',\n",
    "    'openai_EVA02-L-14 merged2b_s4b_b131k': 'EVA02-L-14',\n",
    "    'openai_RN50x64 openai': 'CLIP-RN50x64',\n",
    "    'openai_ViT-B-16 openai':'CLIP-ViT-B-16',\n",
    "    # 'openai_ViT-B-32 negCLIP.pt':'NegCLIP-ViT-B-32', # first download and add negClip weights in this directory\n",
    "    'openai_ViT-B-32 openai' : 'CLIP-ViT-B-32',\n",
    "    'openai_ViT-L-14 openai':'CLIP-ViT-L-14',\n",
    "    'openai_coca_ViT-B-32 laion2b_s13b_b90k':'coca_ViT-B-32' , \n",
    "    'openai_coca_ViT-L-14 laion2b_s13b_b90k':'coca_ViT-L-14',\n",
    "\n",
    "}"
   ]
  },
  {
   "cell_type": "code",
   "execution_count": 8,
   "metadata": {},
   "outputs": [],
   "source": [
    "dfExpectedTwo_deleted = dfExpectedTwo[dfExpectedTwo['model'].isin(dictModels.keys())]\n",
    "avg_acc_exp = dfExpectedTwo_deleted.groupby(['model'])['acc'].mean().reset_index()\n",
    "dfUnExpectedTwo_deleted = dfUnExpectedTwo[dfUnExpectedTwo['model'].isin(dictModels.keys())]\n",
    "avg_acc_unexp = dfUnExpectedTwo_deleted.groupby(['model'])['acc'].mean().reset_index()\n",
    "dfUnExpectedOne_deleted = dfUnExpectedSingle[dfUnExpectedSingle['model'].isin(dictModels.keys())]\n",
    "avg_acc_unexp_single = dfUnExpectedOne_deleted.groupby(['model'])['acc'].mean().reset_index()\n",
    "\n",
    "avg_acc_exp['DF'] = 'expected_double'\n",
    "avg_acc_unexp['DF'] = 'unexpected_double'\n",
    "avg_acc_unexp_single['DF'] = 'unexpected_single'\n",
    "\n",
    "combined_df = pd.concat([avg_acc_exp, avg_acc_unexp , avg_acc_unexp_single ])"
   ]
  },
  {
   "cell_type": "code",
   "execution_count": 9,
   "metadata": {},
   "outputs": [],
   "source": [
    "def sortList(idxList , orgList):\n",
    "    return [orgList[i] for i in idxList]\n",
    "acc_unexp = list(avg_acc_unexp['acc'])\n",
    "acc_exp = list(avg_acc_exp['acc'])\n",
    "acc_unexp_single = list(avg_acc_unexp_single['acc'])\n",
    "biasList = [acc_exp[i] - acc_unexp[i] for i in range(len(acc_unexp)) ]\n",
    "indexes_bias = [index for index, value in sorted(enumerate(biasList), key=lambda x: x[1] ,  reverse = True )]\n",
    "acc_unexp_sortred = sortList(indexes_bias , acc_unexp)\n",
    "acc_exp_sorted = sortList(indexes_bias , acc_exp)\n",
    "acc_unexp_single_sorted = sortList(indexes_bias , acc_unexp_single)\n",
    "average_acc_unexp = sum(acc_unexp)/len(acc_unexp)\n",
    "average_acc_exp = sum(acc_exp)/len(acc_exp)\n",
    "average_acc_unexp_single = sum(acc_unexp_single)/len(acc_unexp_single)\n",
    "listModels = list(dictModels.values())\n",
    "listModels_sorted = sortList(indexes_bias , listModels )"
   ]
  },
  {
   "cell_type": "code",
   "execution_count": 10,
   "metadata": {},
   "outputs": [
    {
     "data": {
      "application/vnd.plotly.v1+json": {
       "config": {
        "displayModeBar": true,
        "plotlyServerURL": "https://plot.ly",
        "staticPlot": true
       },
       "data": [
        {
         "marker": {
          "color": "rgba(198,0,255,1)"
         },
         "name": "Acc U2",
         "showlegend": false,
         "type": "bar",
         "width": 0.6,
         "x": [
          "CLIP-ViT-L-14"
         ],
         "y": [
          0.8928724035546232
         ]
        },
        {
         "base": 0.3860166198989831,
         "marker": {
          "color": "rgba(255,0,80,1)"
         },
         "name": "Acc E2",
         "showlegend": false,
         "type": "bar",
         "width": 0.6,
         "x": [
          "CLIP-ViT-L-14"
         ],
         "y": [
          0.2847612321228315
         ]
        },
        {
         "base": 0.6707778520218146,
         "marker": {
          "color": "rgba(0,150,255,1)"
         },
         "name": "Acc U1",
         "showlegend": true,
         "type": "bar",
         "width": 0.6,
         "x": [
          "CLIP-ViT-L-14"
         ],
         "y": [
          0.22209455153280855
         ]
        },
        {
         "marker": {
          "color": "rgba(198,0,255,1)"
         },
         "name": "Acc U2",
         "showlegend": true,
         "type": "bar",
         "width": 0.6,
         "x": [
          "EVA01-g-14"
         ],
         "y": [
          0.9533694199703697
         ]
        },
        {
         "base": 0.40223363226510356,
         "marker": {
          "color": "rgba(255,0,80,1)"
         },
         "name": "Acc E2",
         "showlegend": true,
         "type": "bar",
         "width": 0.6,
         "x": [
          "EVA01-g-14"
         ],
         "y": [
          0.2586386715478214
         ]
        },
        {
         "base": 0.6608723038129249,
         "marker": {
          "color": "rgba(0,150,255,1)"
         },
         "name": "Acc U1",
         "showlegend": false,
         "type": "bar",
         "width": 0.6,
         "x": [
          "EVA01-g-14"
         ],
         "y": [
          0.2924971161574448
         ]
        },
        {
         "marker": {
          "color": "rgba(198,0,255,1)"
         },
         "name": "Acc U2",
         "showlegend": false,
         "type": "bar",
         "width": 0.6,
         "x": [
          "CLIP-ViT-B-32"
         ],
         "y": [
          0.64586158611908
         ]
        },
        {
         "base": 0.38137603283553495,
         "marker": {
          "color": "rgba(255,0,80,1)"
         },
         "name": "Acc E2",
         "showlegend": false,
         "type": "bar",
         "width": 0.6,
         "x": [
          "CLIP-ViT-B-32"
         ],
         "y": [
          0.22980703776022376
         ]
        },
        {
         "base": 0.6111830705957587,
         "marker": {
          "color": "rgba(0,150,255,1)"
         },
         "name": "Acc U1",
         "showlegend": false,
         "type": "bar",
         "width": 0.6,
         "x": [
          "CLIP-ViT-B-32"
         ],
         "y": [
          0.03467851552332124
         ]
        },
        {
         "marker": {
          "color": "rgba(198,0,255,1)"
         },
         "name": "Acc U2",
         "showlegend": false,
         "type": "bar",
         "width": 0.6,
         "x": [
          "CLIP-RN50x64"
         ],
         "y": [
          0.9647725143888746
         ]
        },
        {
         "base": 0.46052746796084804,
         "marker": {
          "color": "rgba(255,0,80,1)"
         },
         "name": "Acc E2",
         "showlegend": false,
         "type": "bar",
         "width": 0.6,
         "x": [
          "CLIP-RN50x64"
         ],
         "y": [
          0.15222963563604103
         ]
        },
        {
         "base": 0.6127571035968891,
         "marker": {
          "color": "rgba(0,150,255,1)"
         },
         "name": "Acc U1",
         "showlegend": false,
         "type": "bar",
         "width": 0.6,
         "x": [
          "CLIP-RN50x64"
         ],
         "y": [
          0.3520154107919855
         ]
        },
        {
         "marker": {
          "color": "rgba(198,0,255,1)"
         },
         "name": "Acc U2",
         "showlegend": false,
         "type": "bar",
         "width": 0.6,
         "x": [
          "AltCLIP"
         ],
         "y": [
          0.9002564174936515
         ]
        },
        {
         "base": 0.5426951446927373,
         "marker": {
          "color": "rgba(255,0,80,1)"
         },
         "name": "Acc E2",
         "showlegend": false,
         "type": "bar",
         "width": 0.6,
         "x": [
          "AltCLIP"
         ],
         "y": [
          0.13347661344930217
         ]
        },
        {
         "base": 0.6761717581420394,
         "marker": {
          "color": "rgba(0,150,255,1)"
         },
         "name": "Acc U1",
         "showlegend": false,
         "type": "bar",
         "width": 0.6,
         "x": [
          "AltCLIP"
         ],
         "y": [
          0.22408465935161204
         ]
        },
        {
         "marker": {
          "color": "rgba(198,0,255,1)"
         },
         "name": "Acc U2",
         "showlegend": false,
         "type": "bar",
         "width": 0.6,
         "x": [
          "coca_ViT-L-14"
         ],
         "y": [
          0.8150443300011305
         ]
        },
        {
         "base": 0.4578292953883468,
         "marker": {
          "color": "rgba(255,0,80,1)"
         },
         "name": "Acc E2",
         "showlegend": false,
         "type": "bar",
         "width": 0.6,
         "x": [
          "coca_ViT-L-14"
         ],
         "y": [
          0.11463453805296164
         ]
        },
        {
         "base": 0.5724638334413085,
         "marker": {
          "color": "rgba(0,150,255,1)"
         },
         "name": "Acc U1",
         "showlegend": false,
         "type": "bar",
         "width": 0.6,
         "x": [
          "coca_ViT-L-14"
         ],
         "y": [
          0.24258049655982206
         ]
        },
        {
         "marker": {
          "color": "rgba(198,0,255,1)"
         },
         "name": "Acc U2",
         "showlegend": false,
         "type": "bar",
         "width": 0.6,
         "x": [
          "Align"
         ],
         "y": [
          0.8818207139567305
         ]
        },
        {
         "base": 0.6173795349284951,
         "marker": {
          "color": "rgba(255,0,80,1)"
         },
         "name": "Acc E2",
         "showlegend": false,
         "type": "bar",
         "width": 0.6,
         "x": [
          "Align"
         ],
         "y": [
          0.0539535276093418
         ]
        },
        {
         "base": 0.6713330625378369,
         "marker": {
          "color": "rgba(0,150,255,1)"
         },
         "name": "Acc U1",
         "showlegend": false,
         "type": "bar",
         "width": 0.6,
         "x": [
          "Align"
         ],
         "y": [
          0.21048765141889358
         ]
        },
        {
         "marker": {
          "color": "rgba(198,0,255,1)"
         },
         "name": "Acc U2",
         "showlegend": false,
         "type": "bar",
         "width": 0.6,
         "x": [
          "Flava"
         ],
         "y": [
          0.8150586947982772
         ]
        },
        {
         "base": 0.5037419656852318,
         "marker": {
          "color": "rgba(255,0,80,1)"
         },
         "name": "Acc E2",
         "showlegend": false,
         "type": "bar",
         "width": 0.6,
         "x": [
          "Flava"
         ],
         "y": [
          0.049741195670712224
         ]
        },
        {
         "base": 0.553483161355944,
         "marker": {
          "color": "rgba(0,150,255,1)"
         },
         "name": "Acc U1",
         "showlegend": false,
         "type": "bar",
         "width": 0.6,
         "x": [
          "Flava"
         ],
         "y": [
          0.2615755334423332
         ]
        },
        {
         "marker": {
          "color": "rgba(198,0,255,1)"
         },
         "name": "Acc U2",
         "showlegend": false,
         "type": "bar",
         "width": 0.6,
         "x": [
          "EVA02-L-14"
         ],
         "y": [
          0.9471318043919238
         ]
        },
        {
         "base": 0.5365367505786509,
         "marker": {
          "color": "rgba(255,0,80,1)"
         },
         "name": "Acc E2",
         "showlegend": false,
         "type": "bar",
         "width": 0.6,
         "x": [
          "EVA02-L-14"
         ],
         "y": [
          0.030442460787232783
         ]
        },
        {
         "base": 0.5669792113658837,
         "marker": {
          "color": "rgba(0,150,255,1)"
         },
         "name": "Acc U1",
         "showlegend": false,
         "type": "bar",
         "width": 0.6,
         "x": [
          "EVA02-L-14"
         ],
         "y": [
          0.3801525930260401
         ]
        },
        {
         "marker": {
          "color": "rgba(198,0,255,1)"
         },
         "name": "Acc U2",
         "showlegend": false,
         "type": "bar",
         "width": 0.6,
         "x": [
          "coca_ViT-B-32"
         ],
         "y": [
          0.7421140968743571
         ]
        },
        {
         "base": 0.5045405433483975,
         "marker": {
          "color": "rgba(255,0,80,1)"
         },
         "name": "Acc E2",
         "showlegend": false,
         "type": "bar",
         "width": 0.6,
         "x": [
          "coca_ViT-B-32"
         ],
         "y": [
          0.012801642413560299
         ]
        },
        {
         "base": 0.5173421857619578,
         "marker": {
          "color": "rgba(0,150,255,1)"
         },
         "name": "Acc U1",
         "showlegend": false,
         "type": "bar",
         "width": 0.6,
         "x": [
          "coca_ViT-B-32"
         ],
         "y": [
          0.22477191111239936
         ]
        },
        {
         "marker": {
          "color": "rgba(255,0,80,1)"
         },
         "name": "U1",
         "showlegend": false,
         "type": "bar",
         "width": 0.6,
         "x": [
          "CLIP-ViT-B-16"
         ],
         "y": [
          0.8595752540770929
         ]
        },
        {
         "base": 0.4864293659621802,
         "marker": {
          "color": "rgba(198,0,255,1)"
         },
         "name": "Unexplained",
         "showlegend": false,
         "type": "bar",
         "width": 0.6,
         "x": [
          "CLIP-ViT-B-16"
         ],
         "y": [
          0.03167448926992056
         ]
        },
        {
         "base": 0.5181038552321008,
         "marker": {
          "color": "rgba(0,150,255,1)"
         },
         "name": "Explained",
         "showlegend": false,
         "type": "bar",
         "width": 0.6,
         "x": [
          "CLIP-ViT-B-16"
         ],
         "y": [
          0.3414713988449921
         ]
        }
       ],
       "layout": {
        "barmode": "stack",
        "height": 600,
        "legend": {
         "bgcolor": "rgba(255, 255, 255, 0.6)",
         "bordercolor": "Black",
         "borderwidth": 0.1,
         "x": 0,
         "y": 1
        },
        "paper_bgcolor": "rgba(255,255,255,255)",
        "plot_bgcolor": "rgba(255,255,255,255)",
        "template": {
         "data": {
          "bar": [
           {
            "error_x": {
             "color": "#2a3f5f"
            },
            "error_y": {
             "color": "#2a3f5f"
            },
            "marker": {
             "line": {
              "color": "#E5ECF6",
              "width": 0.5
             },
             "pattern": {
              "fillmode": "overlay",
              "size": 10,
              "solidity": 0.2
             }
            },
            "type": "bar"
           }
          ],
          "barpolar": [
           {
            "marker": {
             "line": {
              "color": "#E5ECF6",
              "width": 0.5
             },
             "pattern": {
              "fillmode": "overlay",
              "size": 10,
              "solidity": 0.2
             }
            },
            "type": "barpolar"
           }
          ],
          "carpet": [
           {
            "aaxis": {
             "endlinecolor": "#2a3f5f",
             "gridcolor": "white",
             "linecolor": "white",
             "minorgridcolor": "white",
             "startlinecolor": "#2a3f5f"
            },
            "baxis": {
             "endlinecolor": "#2a3f5f",
             "gridcolor": "white",
             "linecolor": "white",
             "minorgridcolor": "white",
             "startlinecolor": "#2a3f5f"
            },
            "type": "carpet"
           }
          ],
          "choropleth": [
           {
            "colorbar": {
             "outlinewidth": 0,
             "ticks": ""
            },
            "type": "choropleth"
           }
          ],
          "contour": [
           {
            "colorbar": {
             "outlinewidth": 0,
             "ticks": ""
            },
            "colorscale": [
             [
              0,
              "#0d0887"
             ],
             [
              0.1111111111111111,
              "#46039f"
             ],
             [
              0.2222222222222222,
              "#7201a8"
             ],
             [
              0.3333333333333333,
              "#9c179e"
             ],
             [
              0.4444444444444444,
              "#bd3786"
             ],
             [
              0.5555555555555556,
              "#d8576b"
             ],
             [
              0.6666666666666666,
              "#ed7953"
             ],
             [
              0.7777777777777778,
              "#fb9f3a"
             ],
             [
              0.8888888888888888,
              "#fdca26"
             ],
             [
              1,
              "#f0f921"
             ]
            ],
            "type": "contour"
           }
          ],
          "contourcarpet": [
           {
            "colorbar": {
             "outlinewidth": 0,
             "ticks": ""
            },
            "type": "contourcarpet"
           }
          ],
          "heatmap": [
           {
            "colorbar": {
             "outlinewidth": 0,
             "ticks": ""
            },
            "colorscale": [
             [
              0,
              "#0d0887"
             ],
             [
              0.1111111111111111,
              "#46039f"
             ],
             [
              0.2222222222222222,
              "#7201a8"
             ],
             [
              0.3333333333333333,
              "#9c179e"
             ],
             [
              0.4444444444444444,
              "#bd3786"
             ],
             [
              0.5555555555555556,
              "#d8576b"
             ],
             [
              0.6666666666666666,
              "#ed7953"
             ],
             [
              0.7777777777777778,
              "#fb9f3a"
             ],
             [
              0.8888888888888888,
              "#fdca26"
             ],
             [
              1,
              "#f0f921"
             ]
            ],
            "type": "heatmap"
           }
          ],
          "heatmapgl": [
           {
            "colorbar": {
             "outlinewidth": 0,
             "ticks": ""
            },
            "colorscale": [
             [
              0,
              "#0d0887"
             ],
             [
              0.1111111111111111,
              "#46039f"
             ],
             [
              0.2222222222222222,
              "#7201a8"
             ],
             [
              0.3333333333333333,
              "#9c179e"
             ],
             [
              0.4444444444444444,
              "#bd3786"
             ],
             [
              0.5555555555555556,
              "#d8576b"
             ],
             [
              0.6666666666666666,
              "#ed7953"
             ],
             [
              0.7777777777777778,
              "#fb9f3a"
             ],
             [
              0.8888888888888888,
              "#fdca26"
             ],
             [
              1,
              "#f0f921"
             ]
            ],
            "type": "heatmapgl"
           }
          ],
          "histogram": [
           {
            "marker": {
             "pattern": {
              "fillmode": "overlay",
              "size": 10,
              "solidity": 0.2
             }
            },
            "type": "histogram"
           }
          ],
          "histogram2d": [
           {
            "colorbar": {
             "outlinewidth": 0,
             "ticks": ""
            },
            "colorscale": [
             [
              0,
              "#0d0887"
             ],
             [
              0.1111111111111111,
              "#46039f"
             ],
             [
              0.2222222222222222,
              "#7201a8"
             ],
             [
              0.3333333333333333,
              "#9c179e"
             ],
             [
              0.4444444444444444,
              "#bd3786"
             ],
             [
              0.5555555555555556,
              "#d8576b"
             ],
             [
              0.6666666666666666,
              "#ed7953"
             ],
             [
              0.7777777777777778,
              "#fb9f3a"
             ],
             [
              0.8888888888888888,
              "#fdca26"
             ],
             [
              1,
              "#f0f921"
             ]
            ],
            "type": "histogram2d"
           }
          ],
          "histogram2dcontour": [
           {
            "colorbar": {
             "outlinewidth": 0,
             "ticks": ""
            },
            "colorscale": [
             [
              0,
              "#0d0887"
             ],
             [
              0.1111111111111111,
              "#46039f"
             ],
             [
              0.2222222222222222,
              "#7201a8"
             ],
             [
              0.3333333333333333,
              "#9c179e"
             ],
             [
              0.4444444444444444,
              "#bd3786"
             ],
             [
              0.5555555555555556,
              "#d8576b"
             ],
             [
              0.6666666666666666,
              "#ed7953"
             ],
             [
              0.7777777777777778,
              "#fb9f3a"
             ],
             [
              0.8888888888888888,
              "#fdca26"
             ],
             [
              1,
              "#f0f921"
             ]
            ],
            "type": "histogram2dcontour"
           }
          ],
          "mesh3d": [
           {
            "colorbar": {
             "outlinewidth": 0,
             "ticks": ""
            },
            "type": "mesh3d"
           }
          ],
          "parcoords": [
           {
            "line": {
             "colorbar": {
              "outlinewidth": 0,
              "ticks": ""
             }
            },
            "type": "parcoords"
           }
          ],
          "pie": [
           {
            "automargin": true,
            "type": "pie"
           }
          ],
          "scatter": [
           {
            "fillpattern": {
             "fillmode": "overlay",
             "size": 10,
             "solidity": 0.2
            },
            "type": "scatter"
           }
          ],
          "scatter3d": [
           {
            "line": {
             "colorbar": {
              "outlinewidth": 0,
              "ticks": ""
             }
            },
            "marker": {
             "colorbar": {
              "outlinewidth": 0,
              "ticks": ""
             }
            },
            "type": "scatter3d"
           }
          ],
          "scattercarpet": [
           {
            "marker": {
             "colorbar": {
              "outlinewidth": 0,
              "ticks": ""
             }
            },
            "type": "scattercarpet"
           }
          ],
          "scattergeo": [
           {
            "marker": {
             "colorbar": {
              "outlinewidth": 0,
              "ticks": ""
             }
            },
            "type": "scattergeo"
           }
          ],
          "scattergl": [
           {
            "marker": {
             "colorbar": {
              "outlinewidth": 0,
              "ticks": ""
             }
            },
            "type": "scattergl"
           }
          ],
          "scattermapbox": [
           {
            "marker": {
             "colorbar": {
              "outlinewidth": 0,
              "ticks": ""
             }
            },
            "type": "scattermapbox"
           }
          ],
          "scatterpolar": [
           {
            "marker": {
             "colorbar": {
              "outlinewidth": 0,
              "ticks": ""
             }
            },
            "type": "scatterpolar"
           }
          ],
          "scatterpolargl": [
           {
            "marker": {
             "colorbar": {
              "outlinewidth": 0,
              "ticks": ""
             }
            },
            "type": "scatterpolargl"
           }
          ],
          "scatterternary": [
           {
            "marker": {
             "colorbar": {
              "outlinewidth": 0,
              "ticks": ""
             }
            },
            "type": "scatterternary"
           }
          ],
          "surface": [
           {
            "colorbar": {
             "outlinewidth": 0,
             "ticks": ""
            },
            "colorscale": [
             [
              0,
              "#0d0887"
             ],
             [
              0.1111111111111111,
              "#46039f"
             ],
             [
              0.2222222222222222,
              "#7201a8"
             ],
             [
              0.3333333333333333,
              "#9c179e"
             ],
             [
              0.4444444444444444,
              "#bd3786"
             ],
             [
              0.5555555555555556,
              "#d8576b"
             ],
             [
              0.6666666666666666,
              "#ed7953"
             ],
             [
              0.7777777777777778,
              "#fb9f3a"
             ],
             [
              0.8888888888888888,
              "#fdca26"
             ],
             [
              1,
              "#f0f921"
             ]
            ],
            "type": "surface"
           }
          ],
          "table": [
           {
            "cells": {
             "fill": {
              "color": "#EBF0F8"
             },
             "line": {
              "color": "white"
             }
            },
            "header": {
             "fill": {
              "color": "#C8D4E3"
             },
             "line": {
              "color": "white"
             }
            },
            "type": "table"
           }
          ]
         },
         "layout": {
          "annotationdefaults": {
           "arrowcolor": "#2a3f5f",
           "arrowhead": 0,
           "arrowwidth": 1
          },
          "autotypenumbers": "strict",
          "coloraxis": {
           "colorbar": {
            "outlinewidth": 0,
            "ticks": ""
           }
          },
          "colorscale": {
           "diverging": [
            [
             0,
             "#8e0152"
            ],
            [
             0.1,
             "#c51b7d"
            ],
            [
             0.2,
             "#de77ae"
            ],
            [
             0.3,
             "#f1b6da"
            ],
            [
             0.4,
             "#fde0ef"
            ],
            [
             0.5,
             "#f7f7f7"
            ],
            [
             0.6,
             "#e6f5d0"
            ],
            [
             0.7,
             "#b8e186"
            ],
            [
             0.8,
             "#7fbc41"
            ],
            [
             0.9,
             "#4d9221"
            ],
            [
             1,
             "#276419"
            ]
           ],
           "sequential": [
            [
             0,
             "#0d0887"
            ],
            [
             0.1111111111111111,
             "#46039f"
            ],
            [
             0.2222222222222222,
             "#7201a8"
            ],
            [
             0.3333333333333333,
             "#9c179e"
            ],
            [
             0.4444444444444444,
             "#bd3786"
            ],
            [
             0.5555555555555556,
             "#d8576b"
            ],
            [
             0.6666666666666666,
             "#ed7953"
            ],
            [
             0.7777777777777778,
             "#fb9f3a"
            ],
            [
             0.8888888888888888,
             "#fdca26"
            ],
            [
             1,
             "#f0f921"
            ]
           ],
           "sequentialminus": [
            [
             0,
             "#0d0887"
            ],
            [
             0.1111111111111111,
             "#46039f"
            ],
            [
             0.2222222222222222,
             "#7201a8"
            ],
            [
             0.3333333333333333,
             "#9c179e"
            ],
            [
             0.4444444444444444,
             "#bd3786"
            ],
            [
             0.5555555555555556,
             "#d8576b"
            ],
            [
             0.6666666666666666,
             "#ed7953"
            ],
            [
             0.7777777777777778,
             "#fb9f3a"
            ],
            [
             0.8888888888888888,
             "#fdca26"
            ],
            [
             1,
             "#f0f921"
            ]
           ]
          },
          "colorway": [
           "#636efa",
           "#EF553B",
           "#00cc96",
           "#ab63fa",
           "#FFA15A",
           "#19d3f3",
           "#FF6692",
           "#B6E880",
           "#FF97FF",
           "#FECB52"
          ],
          "font": {
           "color": "#2a3f5f"
          },
          "geo": {
           "bgcolor": "white",
           "lakecolor": "white",
           "landcolor": "#E5ECF6",
           "showlakes": true,
           "showland": true,
           "subunitcolor": "white"
          },
          "hoverlabel": {
           "align": "left"
          },
          "hovermode": "closest",
          "mapbox": {
           "style": "light"
          },
          "paper_bgcolor": "white",
          "plot_bgcolor": "#E5ECF6",
          "polar": {
           "angularaxis": {
            "gridcolor": "white",
            "linecolor": "white",
            "ticks": ""
           },
           "bgcolor": "#E5ECF6",
           "radialaxis": {
            "gridcolor": "white",
            "linecolor": "white",
            "ticks": ""
           }
          },
          "scene": {
           "xaxis": {
            "backgroundcolor": "#E5ECF6",
            "gridcolor": "white",
            "gridwidth": 2,
            "linecolor": "white",
            "showbackground": true,
            "ticks": "",
            "zerolinecolor": "white"
           },
           "yaxis": {
            "backgroundcolor": "#E5ECF6",
            "gridcolor": "white",
            "gridwidth": 2,
            "linecolor": "white",
            "showbackground": true,
            "ticks": "",
            "zerolinecolor": "white"
           },
           "zaxis": {
            "backgroundcolor": "#E5ECF6",
            "gridcolor": "white",
            "gridwidth": 2,
            "linecolor": "white",
            "showbackground": true,
            "ticks": "",
            "zerolinecolor": "white"
           }
          },
          "shapedefaults": {
           "line": {
            "color": "#2a3f5f"
           }
          },
          "ternary": {
           "aaxis": {
            "gridcolor": "white",
            "linecolor": "white",
            "ticks": ""
           },
           "baxis": {
            "gridcolor": "white",
            "linecolor": "white",
            "ticks": ""
           },
           "bgcolor": "#E5ECF6",
           "caxis": {
            "gridcolor": "white",
            "linecolor": "white",
            "ticks": ""
           }
          },
          "title": {
           "x": 0.05
          },
          "xaxis": {
           "automargin": true,
           "gridcolor": "white",
           "linecolor": "white",
           "ticks": "",
           "title": {
            "standoff": 15
           },
           "zerolinecolor": "white",
           "zerolinewidth": 2
          },
          "yaxis": {
           "automargin": true,
           "gridcolor": "white",
           "linecolor": "white",
           "ticks": "",
           "title": {
            "standoff": 15
           },
           "zerolinecolor": "white",
           "zerolinewidth": 2
          }
         }
        },
        "width": 900,
        "xaxis": {
         "tickangle": -45,
         "tickfont": {
          "family": "Arial Bold, sans-serif",
          "size": 20
         },
         "tickmode": "array",
         "ticktext": [
          "CLIP-ViT-L-14",
          "EVA01-g-14",
          "CLIP-ViT-B-32",
          "CLIP-RN50x64",
          "AltCLIP",
          "coca_ViT-L-14",
          "Align",
          "Flava",
          "EVA02-L-14",
          "coca_ViT-B-32",
          "CLIP-ViT-B-16"
         ],
         "tickvals": [
          0,
          1,
          2,
          3,
          4,
          5,
          6,
          7,
          8,
          9,
          10
         ],
         "title": {
          "font": {
           "family": "Arial Bold, sans-serif",
           "size": 20
          }
         }
        },
        "yaxis": {
         "gridcolor": "lightgrey",
         "linecolor": "black",
         "linewidth": 2,
         "showline": true,
         "tickfont": {
          "family": "Arial Bold, sans-serif",
          "size": 16
         },
         "tickmode": "array",
         "ticktext": [
          "0.1",
          "0.3",
          "0.5",
          "0.7",
          "0.9",
          "1.0"
         ],
         "tickvals": [
          0.1,
          0.3,
          0.5,
          0.7,
          0.9,
          1
         ],
         "title": {
          "font": {
           "family": "Arial Bold, sans-serif",
           "size": 18
          },
          "text": "Accuracy"
         }
        }
       }
      }
     },
     "metadata": {},
     "output_type": "display_data"
    }
   ],
   "source": [
    "import plotly.graph_objects as go\n",
    "\n",
    "acc_exp_color = 'rgba(0,150,255,1)'\n",
    "acc_unexp_single_color = 'rgba(255,0,80,1)'\n",
    "acc_unexp_color = 'rgba(198,0,255,1)'\n",
    "\n",
    "\n",
    "fig = go.Figure()\n",
    "bar_width = 0.6\n",
    "for i, model in enumerate(listModels_sorted):\n",
    "    acc_un_2 = acc_unexp_sortred[i]\n",
    "    acc_exp_2 = acc_exp_sorted[i]\n",
    "    acc_un_1 = acc_unexp_single_sorted[i]\n",
    "    \n",
    "    if acc_un_2 < acc_exp_2 and acc_exp_2 < acc_un_1:\n",
    "        fig.add_trace(go.Bar(x=[model], y=[acc_un_1], marker_color=acc_unexp_color, name='Acc U2', showlegend=i == 1, width=bar_width))\n",
    "        fig.add_trace(go.Bar(x=[model], y=[acc_exp_2 - acc_un_2], marker_color=acc_unexp_single_color, name='Acc E2', base=acc_un_2, showlegend=i == 1, width=bar_width))\n",
    "        fig.add_trace(go.Bar(x=[model], y=[acc_un_1 - acc_exp_2], marker_color=acc_exp_color, name='Acc U1', base=acc_exp_2, showlegend=i == 0, width=bar_width))\n",
    "    elif acc_un_2 > acc_exp_2 and acc_un_2 < acc_un_1:\n",
    "        fig.add_trace(go.Bar(x=[model], y=[acc_un_1], marker_color=acc_unexp_single_color, name='U1', showlegend=i == 0, width=bar_width))\n",
    "        fig.add_trace(go.Bar(x=[model], y=[acc_un_2 - acc_exp_2], marker_color=acc_unexp_color, name='Unexplained', base=acc_exp_2, showlegend=i == 0, width=bar_width))\n",
    "        fig.add_trace(go.Bar(x=[model], y=[acc_un_1 - acc_un_2], marker_color=acc_exp_color, name='Explained', base=acc_un_2, showlegend=i == 0, width=bar_width))\n",
    "    elif acc_un_2 < acc_exp_2 and acc_un_2 > acc_un_1:\n",
    "        fig.add_trace(go.Bar(x=[model], y=[acc_exp_2], marker_color=acc_exp_color, name='Unexplained', showlegend=i == 0 , width=bar_width))\n",
    "        fig.add_trace(go.Bar(x=[model], y=[acc_un_2 - acc_un_1], marker_color=acc_unexp_color, name='Unexplained Single', base=acc_un_1, showlegend=i == 0, width=bar_width))\n",
    "        fig.add_trace(go.Bar(x=[model], y=[acc_exp_2 - acc_un_2], marker_color=acc_unexp_single_color, name='Explained', base=acc_un_2, showlegend=i == 0, width=bar_width))\n",
    "\n",
    "\n",
    "        \n",
    "\n",
    "\n",
    "fig.update_layout(\n",
    "    paper_bgcolor='rgba(255,255,255,255)',\n",
    "    plot_bgcolor='rgba(255,255,255,255)',\n",
    "    xaxis=dict(\n",
    "        tickmode='array',\n",
    "        tickvals=[i for i in range(len(listModels_sorted))],\n",
    "        ticktext=listModels_sorted,\n",
    "        tickangle=-45,\n",
    "        title_font=dict(size=20, family='Arial Bold, sans-serif'),\n",
    "        tickfont=dict(size=20, family='Arial Bold, sans-serif'),\n",
    "    ),\n",
    "    yaxis=dict(\n",
    "        title='Accuracy',\n",
    "        title_font=dict(size=18, family='Arial Bold, sans-serif'),\n",
    "        tickfont=dict(size=16, family='Arial Bold, sans-serif'),\n",
    "        showline=True,\n",
    "        linewidth=2,\n",
    "        linecolor='black',\n",
    "        tickmode='array',\n",
    "        tickvals=[0.1, 0.3, 0.5, 0.7, 0.9 , 1],\n",
    "        ticktext=['0.1', '0.3', '0.5', '0.7', '0.9' , '1.0'],\n",
    "        gridcolor='lightgrey',\n",
    "    ),\n",
    "    barmode='stack',\n",
    "    width=900,\n",
    "    height=600,\n",
    "    legend=dict(\n",
    "        x=0.0,  \n",
    "        y=1,  \n",
    "        bgcolor='rgba(255, 255, 255, 0.6)',  \n",
    "        bordercolor='Black',\n",
    "        borderwidth=0.1\n",
    "    )\n",
    ")\n",
    "\n",
    "fig.show(config={'displayModeBar': True, 'staticPlot': True})"
   ]
  },
  {
   "cell_type": "code",
   "execution_count": 41,
   "metadata": {},
   "outputs": [],
   "source": [
    "fig.write_html('bais-1.html') "
   ]
  },
  {
   "cell_type": "code",
   "execution_count": null,
   "metadata": {},
   "outputs": [],
   "source": []
  }
 ],
 "metadata": {
  "kernelspec": {
   "display_name": "base",
   "language": "python",
   "name": "python3"
  },
  "language_info": {
   "codemirror_mode": {
    "name": "ipython",
    "version": 3
   },
   "file_extension": ".py",
   "mimetype": "text/x-python",
   "name": "python",
   "nbconvert_exporter": "python",
   "pygments_lexer": "ipython3",
   "version": "3.11.3"
  }
 },
 "nbformat": 4,
 "nbformat_minor": 2
}
