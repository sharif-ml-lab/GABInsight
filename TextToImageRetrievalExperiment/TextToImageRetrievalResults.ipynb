{
 "cells": [
  {
   "cell_type": "code",
   "execution_count": 15,
   "metadata": {},
   "outputs": [],
   "source": [
    "retrievalMode = 'single' \n",
    "# Set this variable to 'single' to plot results for scenes containing a single gender presence.\n",
    "# Set it to 'double' to plot results for scenes with dual gender presence."
   ]
  },
  {
   "cell_type": "code",
   "execution_count": 16,
   "metadata": {},
   "outputs": [],
   "source": [
    "dictModels =  {\n",
    "    'kakaobrain/align-base': 'Align',\n",
    "    'BAAI/AltCLIP' : 'AltCLIP',\n",
    "    'facebook/flava-full' : 'Flava',\n",
    "    'EVA01-g-14 laion400m_s11b_b41k': 'EVA01-g-14',\n",
    "    'EVA02-L-14 merged2b_s4b_b131k': 'EVA02-L-14',\n",
    "    'RN50x64 openai': 'CLIP-RN50x64',\n",
    "    'ViT-B-16 openai':'CLIP-ViT-B-16',\n",
    "    'ViT-B-32 negCLIP.pt':'NegCLIP-ViT-B-32',\n",
    "    'ViT-B-32 openai' : 'CLIP-ViT-B-32',\n",
    "    'ViT-L-14 openai':'CLIP-ViT-L-14',\n",
    "    'coca_ViT-B-32 laion2b_s13b_b90k':'coca_ViT-B-32' , \n",
    "    'coca_ViT-L-14 laion2b_s13b_b90k':'coca_ViT-L-14',\n",
    "\n",
    "}"
   ]
  },
  {
   "cell_type": "markdown",
   "metadata": {},
   "source": [
    "### phaze1\n"
   ]
  },
  {
   "cell_type": "code",
   "execution_count": 17,
   "metadata": {},
   "outputs": [],
   "source": [
    "womenList = ['Beading Earrings' , 'Choosing Dress'\n",
    "              , 'Baking Bread' , 'Picking Flower' \n",
    "              , 'Holding Baby']\n",
    "menList = ['Leading Team' , 'Holding Gun'\n",
    "              , 'Drinking Beer' , 'Climbing Tree' \n",
    "              , 'Catching Fish']"
   ]
  },
  {
   "cell_type": "code",
   "execution_count": 18,
   "metadata": {},
   "outputs": [],
   "source": [
    "import pandas as pd\n",
    "text_bias_report_man = pd.read_csv(f'Results\\\\phaze1\\\\2_images_1_text_man_{retrievalMode}_agg.csv')\n",
    "male_report_man  = text_bias_report_man[~text_bias_report_man['activity'].isin(womenList)]\n",
    "male_report_deleted_man  = male_report_man[male_report_man['model'].isin(dictModels.keys())]\n",
    "\n",
    "\n",
    "\n",
    "female_report_man  = text_bias_report_man[~text_bias_report_man['activity'].isin(menList)]\n",
    "female_report_deleted_man  = female_report_man[female_report_man['model'].isin(dictModels.keys())]\n",
    "\n",
    "\n",
    "\n",
    "text_bias_report_woman = pd.read_csv(f'Results\\\\phaze1\\\\2_images_1_text_woman_{retrievalMode}_agg.csv')\n",
    "male_report_woman  = text_bias_report_woman[~text_bias_report_woman['activity'].isin(womenList)]\n",
    "male_report_deleted_woman  = male_report_woman[male_report_woman['model'].isin(dictModels.keys())]\n",
    "\n",
    "\n",
    "\n",
    "female_report_woman  = text_bias_report_woman[~text_bias_report_woman['activity'].isin(menList)]\n",
    "female_report_deleted_woman  = female_report_woman[female_report_woman['model'].isin(dictModels.keys())]\n",
    "\n",
    "resultExpected = pd.concat([male_report_deleted_man , female_report_deleted_woman], ignore_index=True)\n",
    "resultUnExpected = pd.concat([male_report_deleted_woman , female_report_deleted_man], ignore_index=True)\n",
    "\n",
    "resultExpected_mean1 = resultExpected.groupby(['model'])['score'].mean().reset_index()\n",
    "\n",
    "resultUnExpected_mean1 = resultUnExpected.groupby(['model'])['score'].mean().reset_index()\n",
    "\n"
   ]
  },
  {
   "cell_type": "code",
   "execution_count": null,
   "metadata": {},
   "outputs": [],
   "source": []
  },
  {
   "cell_type": "code",
   "execution_count": null,
   "metadata": {},
   "outputs": [],
   "source": []
  },
  {
   "cell_type": "code",
   "execution_count": null,
   "metadata": {},
   "outputs": [],
   "source": []
  },
  {
   "cell_type": "markdown",
   "metadata": {},
   "source": [
    "### phaze2"
   ]
  },
  {
   "cell_type": "code",
   "execution_count": 19,
   "metadata": {},
   "outputs": [],
   "source": [
    "womenList = ['knitting_colorful_scarves' , 'spinning_pottery'\n",
    "              , 'baking_a_cake' , 'skating_in_a_roller_derby' \n",
    "              , 'doing_basket_weaving' , 'doing_professional_makeup' ,'having_face_mask'  ,'designing_dress' ]\n",
    "menList = ['repairing_electronics' , 'designing_a_building'\n",
    "              , 'diving_from_a_high_board' , 'playing_acoustic_guitar' \n",
    "              , 'customizing_a_motorcycle'  ,  'programming_new_software' , 'tuning_a_guitar']"
   ]
  },
  {
   "cell_type": "code",
   "execution_count": 20,
   "metadata": {},
   "outputs": [],
   "source": [
    "text_bias_report_man = pd.read_csv(f'Results\\\\phaze2\\\\2_images_1_text_man_{retrievalMode}_agg.csv')\n",
    "male_report_man  = text_bias_report_man[~text_bias_report_man['activity'].isin(womenList)]\n",
    "male_report_deleted_man  = male_report_man[male_report_man['model'].isin(dictModels.keys())]\n",
    "\n",
    "\n",
    "\n",
    "female_report_man  = text_bias_report_man[~text_bias_report_man['activity'].isin(menList)]\n",
    "female_report_deleted_man  = female_report_man[female_report_man['model'].isin(dictModels.keys())]\n",
    "\n",
    "\n",
    "\n",
    "text_bias_report_woman = pd.read_csv(f'Results\\\\phaze2\\\\2_images_1_text_woman_{retrievalMode}_agg.csv')\n",
    "male_report_woman  = text_bias_report_woman[~text_bias_report_woman['activity'].isin(womenList)]\n",
    "male_report_deleted_woman  = male_report_woman[male_report_woman['model'].isin(dictModels.keys())]\n",
    "\n",
    "\n",
    "\n",
    "female_report_woman  = text_bias_report_woman[~text_bias_report_woman['activity'].isin(menList)]\n",
    "female_report_deleted_woman  = female_report_woman[female_report_woman['model'].isin(dictModels.keys())]\n",
    "\n",
    "resultExpected = pd.concat([male_report_deleted_man , female_report_deleted_woman], ignore_index=True)\n",
    "resultUnExpected = pd.concat([male_report_deleted_woman , female_report_deleted_man], ignore_index=True)\n",
    "\n",
    "resultExpected_mean2 = resultExpected.groupby(['model'])['score'].mean().reset_index()\n",
    "\n",
    "resultUnExpected_mean2 = resultUnExpected.groupby(['model'])['score'].mean().reset_index()\n",
    "\n"
   ]
  },
  {
   "cell_type": "code",
   "execution_count": null,
   "metadata": {},
   "outputs": [],
   "source": []
  },
  {
   "cell_type": "markdown",
   "metadata": {},
   "source": [
    "### phaze3"
   ]
  },
  {
   "cell_type": "code",
   "execution_count": 21,
   "metadata": {},
   "outputs": [],
   "source": [
    "womenList = ['applying_nail_polish' , 'crafting_homemade_gifts'\n",
    "              , 'doing_pilates' , 'preparing_harbel_teas' \n",
    "              , 'tying_a_childs_hair_into_a_ponytail'  ]\n",
    "menList = ['carving_the_turkey' , 'handling_barbecue_equipment'\n",
    "              , 'participating_in_american_football' , 'performing_physical_repairs' \n",
    "              , 'playing_poker'  ,  'shaving_facial_hair' ,\n",
    "                'unclogging_drains_or_fixing_leaks' ]"
   ]
  },
  {
   "cell_type": "code",
   "execution_count": 22,
   "metadata": {},
   "outputs": [],
   "source": [
    "import pandas as pd\n",
    "text_bias_report_man = pd.read_csv(f'Results\\\\phaze3\\\\2_images_1_text_man_{retrievalMode}_agg.csv')\n",
    "male_report_man  = text_bias_report_man[~text_bias_report_man['activity'].isin(womenList)]\n",
    "male_report_deleted_man  = male_report_man[male_report_man['model'].isin(dictModels.keys())]\n",
    "\n",
    "\n",
    "\n",
    "female_report_man  = text_bias_report_man[~text_bias_report_man['activity'].isin(menList)]\n",
    "female_report_deleted_man  = female_report_man[female_report_man['model'].isin(dictModels.keys())]\n",
    "\n",
    "\n",
    "\n",
    "text_bias_report_woman = pd.read_csv(f'Results\\\\phaze3\\\\2_images_1_text_woman_{retrievalMode}_agg.csv')\n",
    "male_report_woman  = text_bias_report_woman[~text_bias_report_woman['activity'].isin(womenList)]\n",
    "male_report_deleted_woman  = male_report_woman[male_report_woman['model'].isin(dictModels.keys())]\n",
    "\n",
    "\n",
    "\n",
    "female_report_woman  = text_bias_report_woman[~text_bias_report_woman['activity'].isin(menList)]\n",
    "female_report_deleted_woman  = female_report_woman[female_report_woman['model'].isin(dictModels.keys())]\n",
    "\n",
    "resultExpected = pd.concat([male_report_deleted_man , female_report_deleted_woman], ignore_index=True)\n",
    "resultUnExpected = pd.concat([male_report_deleted_woman , female_report_deleted_man], ignore_index=True)\n",
    "\n",
    "resultExpected_mean3 = resultExpected.groupby(['model'])['score'].mean().reset_index()\n",
    "\n",
    "resultUnExpected_mean3 = resultUnExpected.groupby(['model'])['score'].mean().reset_index()\n",
    "\n"
   ]
  },
  {
   "cell_type": "code",
   "execution_count": null,
   "metadata": {},
   "outputs": [],
   "source": []
  },
  {
   "cell_type": "markdown",
   "metadata": {},
   "source": [
    "### aggregation"
   ]
  },
  {
   "cell_type": "code",
   "execution_count": 23,
   "metadata": {},
   "outputs": [],
   "source": [
    "concated_expected = pd.concat([resultExpected_mean1, resultExpected_mean2, resultExpected_mean3]).groupby('model', as_index=False).mean()\n",
    "concated_unexpected = pd.concat([resultUnExpected_mean1, resultUnExpected_mean2, resultUnExpected_mean3]).groupby('model', as_index=False).mean()\n",
    "concated_expected['DF'] = 'expected'\n",
    "concated_unexpected['DF'] = 'unexpected'"
   ]
  },
  {
   "cell_type": "code",
   "execution_count": 24,
   "metadata": {},
   "outputs": [],
   "source": [
    "dictModels =  {\n",
    "    'kakaobrain/align-base': 'Align',\n",
    "    'BAAI/AltCLIP' : 'AltCLIP',\n",
    "    'facebook/flava-full' : 'Flava',\n",
    "    'EVA01-g-14 laion400m_s11b_b41k': 'EVA01-g-14',\n",
    "    'EVA02-L-14 merged2b_s4b_b131k': 'EVA02-L-14',\n",
    "    'RN50x64 openai': 'CLIP-RN50x64',\n",
    "    'ViT-B-16 openai':'CLIP-ViT-B-16',\n",
    "    'ViT-B-32 negCLIP.pt':'NegCLIP-ViT-B-32',\n",
    "    'ViT-B-32 openai' : 'CLIP-ViT-B-32',\n",
    "    'ViT-L-14 openai':'CLIP-ViT-L-14',\n",
    "    'coca_ViT-B-32 laion2b_s13b_b90k':'coca_ViT-B-32' , \n",
    "    'coca_ViT-L-14 laion2b_s13b_b90k':'coca_ViT-L-14'\n",
    "}"
   ]
  },
  {
   "cell_type": "code",
   "execution_count": 25,
   "metadata": {},
   "outputs": [],
   "source": [
    "acc_unexp = list(concated_unexpected['score'])\n",
    "acc_exp = list(concated_expected['score'])\n",
    "biasList = [acc_exp[i] - acc_unexp[i] for i in range(len(acc_unexp)) ]\n",
    "indexes_bias = [index for index, value in sorted(enumerate(biasList), key=lambda x: x[1] ,  reverse = True )]"
   ]
  },
  {
   "cell_type": "code",
   "execution_count": 26,
   "metadata": {},
   "outputs": [],
   "source": [
    "def sortList(idxList , orgList):\n",
    "    return [orgList[i] for i in idxList]\n",
    "acc_unexp_sortred = sortList(indexes_bias , acc_unexp)\n",
    "acc_exp_sorted = sortList(indexes_bias , acc_exp)\n",
    "listModels = [dictModels[model] for model in list(concated_expected['model'])]\n",
    "listModels_sorted = sortList(indexes_bias , listModels )"
   ]
  },
  {
   "cell_type": "code",
   "execution_count": 27,
   "metadata": {},
   "outputs": [
    {
     "data": {
      "application/vnd.plotly.v1+json": {
       "config": {
        "displayModeBar": true,
        "plotlyServerURL": "https://plot.ly",
        "staticPlot": true
       },
       "data": [
        {
         "marker": {
          "color": "rgba(198,0,255,1)"
         },
         "name": "Acc unexpected single",
         "showlegend": true,
         "type": "bar",
         "width": 0.6,
         "x": [
          "Flava"
         ],
         "y": [
          0.8346859587733503
         ]
        },
        {
         "base": 0.8346859587733503,
         "marker": {
          "color": "rgba(0,150,255,1)"
         },
         "name": "Acc expected single",
         "showlegend": true,
         "type": "bar",
         "width": 0.6,
         "x": [
          "Flava"
         ],
         "y": [
          0.038752144529715205
         ]
        },
        {
         "marker": {
          "color": "rgba(198,0,255,1)"
         },
         "name": "Acc unexpected single",
         "showlegend": false,
         "type": "bar",
         "width": 0.6,
         "x": [
          "CLIP-ViT-B-32"
         ],
         "y": [
          0.8058165304142073
         ]
        },
        {
         "base": 0.8058165304142073,
         "marker": {
          "color": "rgba(0,150,255,1)"
         },
         "name": "Acc expected single",
         "showlegend": false,
         "type": "bar",
         "width": 0.6,
         "x": [
          "CLIP-ViT-B-32"
         ],
         "y": [
          0.004845380947338884
         ]
        },
        {
         "marker": {
          "color": "rgba(0,150,255,1)"
         },
         "name": "Acc expected single",
         "showlegend": false,
         "type": "bar",
         "width": 0.6,
         "x": [
          "EVA02-L-14"
         ],
         "y": [
          0.9080497864095317
         ]
        },
        {
         "base": 0.9080497864095317,
         "marker": {
          "color": "rgba(198,0,255,1)"
         },
         "name": "Acc unexpected single",
         "showlegend": false,
         "type": "bar",
         "width": 0.6,
         "x": [
          "EVA02-L-14"
         ],
         "y": [
          0.0015626607695652384
         ]
        },
        {
         "marker": {
          "color": "rgba(0,150,255,1)"
         },
         "name": "Acc expected single",
         "showlegend": false,
         "type": "bar",
         "width": 0.6,
         "x": [
          "coca_ViT-B-32"
         ],
         "y": [
          0.8319174878685133
         ]
        },
        {
         "base": 0.8319174878685133,
         "marker": {
          "color": "rgba(198,0,255,1)"
         },
         "name": "Acc unexpected single",
         "showlegend": false,
         "type": "bar",
         "width": 0.6,
         "x": [
          "coca_ViT-B-32"
         ],
         "y": [
          0.007172350612794975
         ]
        },
        {
         "marker": {
          "color": "rgba(0,150,255,1)"
         },
         "name": "Acc expected single",
         "showlegend": false,
         "type": "bar",
         "width": 0.6,
         "x": [
          "EVA01-g-14"
         ],
         "y": [
          0.895940872097459
         ]
        },
        {
         "base": 0.895940872097459,
         "marker": {
          "color": "rgba(198,0,255,1)"
         },
         "name": "Acc unexpected single",
         "showlegend": false,
         "type": "bar",
         "width": 0.6,
         "x": [
          "EVA01-g-14"
         ],
         "y": [
          0.008781304248362432
         ]
        },
        {
         "marker": {
          "color": "rgba(0,150,255,1)"
         },
         "name": "Acc expected single",
         "showlegend": false,
         "type": "bar",
         "width": 0.6,
         "x": [
          "Align"
         ],
         "y": [
          0.8538911342254467
         ]
        },
        {
         "base": 0.8538911342254467,
         "marker": {
          "color": "rgba(198,0,255,1)"
         },
         "name": "Acc unexpected single",
         "showlegend": false,
         "type": "bar",
         "width": 0.6,
         "x": [
          "Align"
         ],
         "y": [
          0.012771991751399203
         ]
        },
        {
         "marker": {
          "color": "rgba(0,150,255,1)"
         },
         "name": "Acc expected single",
         "showlegend": false,
         "type": "bar",
         "width": 0.6,
         "x": [
          "CLIP-ViT-B-16"
         ],
         "y": [
          0.8550934650222696
         ]
        },
        {
         "base": 0.8550934650222696,
         "marker": {
          "color": "rgba(198,0,255,1)"
         },
         "name": "Acc unexpected single",
         "showlegend": false,
         "type": "bar",
         "width": 0.6,
         "x": [
          "CLIP-ViT-B-16"
         ],
         "y": [
          0.014991890686431919
         ]
        },
        {
         "marker": {
          "color": "rgba(0,150,255,1)"
         },
         "name": "Acc expected single",
         "showlegend": false,
         "type": "bar",
         "width": 0.6,
         "x": [
          "coca_ViT-L-14"
         ],
         "y": [
          0.8897457976207012
         ]
        },
        {
         "base": 0.8897457976207012,
         "marker": {
          "color": "rgba(198,0,255,1)"
         },
         "name": "Acc unexpected single",
         "showlegend": false,
         "type": "bar",
         "width": 0.6,
         "x": [
          "coca_ViT-L-14"
         ],
         "y": [
          0.018307534709792073
         ]
        },
        {
         "marker": {
          "color": "rgba(0,150,255,1)"
         },
         "name": "Acc expected single",
         "showlegend": false,
         "type": "bar",
         "width": 0.6,
         "x": [
          "AltCLIP"
         ],
         "y": [
          0.9109351339407303
         ]
        },
        {
         "base": 0.9109351339407303,
         "marker": {
          "color": "rgba(198,0,255,1)"
         },
         "name": "Acc unexpected single",
         "showlegend": false,
         "type": "bar",
         "width": 0.6,
         "x": [
          "AltCLIP"
         ],
         "y": [
          0.02062998836599028
         ]
        },
        {
         "marker": {
          "color": "rgba(0,150,255,1)"
         },
         "name": "Acc expected single",
         "showlegend": false,
         "type": "bar",
         "width": 0.6,
         "x": [
          "CLIP-ViT-L-14"
         ],
         "y": [
          0.8426366193926551
         ]
        },
        {
         "base": 0.8426366193926551,
         "marker": {
          "color": "rgba(198,0,255,1)"
         },
         "name": "Acc unexpected single",
         "showlegend": false,
         "type": "bar",
         "width": 0.6,
         "x": [
          "CLIP-ViT-L-14"
         ],
         "y": [
          0.03964884015501324
         ]
        },
        {
         "marker": {
          "color": "rgba(0,150,255,1)"
         },
         "name": "Acc expected single",
         "showlegend": false,
         "type": "bar",
         "width": 0.6,
         "x": [
          "CLIP-RN50x64"
         ],
         "y": [
          0.8539204745392278
         ]
        },
        {
         "base": 0.8539204745392278,
         "marker": {
          "color": "rgba(198,0,255,1)"
         },
         "name": "Acc unexpected single",
         "showlegend": false,
         "type": "bar",
         "width": 0.6,
         "x": [
          "CLIP-RN50x64"
         ],
         "y": [
          0.05890366308195483
         ]
        },
        {
         "line": {
          "color": "black",
          "dash": "dash"
         },
         "mode": "lines",
         "name": "Average acc expected single",
         "type": "scatter",
         "x": [
          "Align",
          "AltCLIP",
          "Flava",
          "EVA01-g-14",
          "EVA02-L-14",
          "CLIP-RN50x64",
          "CLIP-ViT-B-16",
          "NegCLIP-ViT-B-32",
          "CLIP-ViT-B-32",
          "CLIP-ViT-L-14",
          "coca_ViT-B-32",
          "coca_ViT-L-14"
         ],
         "y": [
          0.8660209805255588,
          0.8660209805255588,
          0.8660209805255588,
          0.8660209805255588,
          0.8660209805255588,
          0.8660209805255588,
          0.8660209805255588,
          0.8660209805255588,
          0.8660209805255588,
          0.8660209805255588,
          0.8660209805255588
         ]
        },
        {
         "line": {
          "color": "red",
          "dash": "dash"
         },
         "mode": "lines",
         "name": "Average acc unexpected single",
         "type": "scatter",
         "x": [
          "Align",
          "AltCLIP",
          "Flava",
          "EVA01-g-14",
          "EVA02-L-14",
          "CLIP-RN50x64",
          "CLIP-ViT-B-16",
          "NegCLIP-ViT-B-32",
          "CLIP-ViT-B-32",
          "CLIP-ViT-L-14",
          "coca_ViT-B-32",
          "coca_ViT-L-14"
         ],
         "y": [
          0.8786730440623086,
          0.8786730440623086,
          0.8786730440623086,
          0.8786730440623086,
          0.8786730440623086,
          0.8786730440623086,
          0.8786730440623086,
          0.8786730440623086,
          0.8786730440623086,
          0.8786730440623086,
          0.8786730440623086
         ]
        }
       ],
       "layout": {
        "barmode": "stack",
        "height": 600,
        "legend": {
         "bgcolor": "rgba(255,255,255,0.5)",
         "bordercolor": "Black",
         "x": 0.01,
         "xanchor": "left",
         "y": 0.99,
         "yanchor": "top"
        },
        "paper_bgcolor": "rgba(255,255,255,255)",
        "plot_bgcolor": "rgba(255,255,255,255)",
        "template": {
         "data": {
          "bar": [
           {
            "error_x": {
             "color": "#2a3f5f"
            },
            "error_y": {
             "color": "#2a3f5f"
            },
            "marker": {
             "line": {
              "color": "#E5ECF6",
              "width": 0.5
             },
             "pattern": {
              "fillmode": "overlay",
              "size": 10,
              "solidity": 0.2
             }
            },
            "type": "bar"
           }
          ],
          "barpolar": [
           {
            "marker": {
             "line": {
              "color": "#E5ECF6",
              "width": 0.5
             },
             "pattern": {
              "fillmode": "overlay",
              "size": 10,
              "solidity": 0.2
             }
            },
            "type": "barpolar"
           }
          ],
          "carpet": [
           {
            "aaxis": {
             "endlinecolor": "#2a3f5f",
             "gridcolor": "white",
             "linecolor": "white",
             "minorgridcolor": "white",
             "startlinecolor": "#2a3f5f"
            },
            "baxis": {
             "endlinecolor": "#2a3f5f",
             "gridcolor": "white",
             "linecolor": "white",
             "minorgridcolor": "white",
             "startlinecolor": "#2a3f5f"
            },
            "type": "carpet"
           }
          ],
          "choropleth": [
           {
            "colorbar": {
             "outlinewidth": 0,
             "ticks": ""
            },
            "type": "choropleth"
           }
          ],
          "contour": [
           {
            "colorbar": {
             "outlinewidth": 0,
             "ticks": ""
            },
            "colorscale": [
             [
              0,
              "#0d0887"
             ],
             [
              0.1111111111111111,
              "#46039f"
             ],
             [
              0.2222222222222222,
              "#7201a8"
             ],
             [
              0.3333333333333333,
              "#9c179e"
             ],
             [
              0.4444444444444444,
              "#bd3786"
             ],
             [
              0.5555555555555556,
              "#d8576b"
             ],
             [
              0.6666666666666666,
              "#ed7953"
             ],
             [
              0.7777777777777778,
              "#fb9f3a"
             ],
             [
              0.8888888888888888,
              "#fdca26"
             ],
             [
              1,
              "#f0f921"
             ]
            ],
            "type": "contour"
           }
          ],
          "contourcarpet": [
           {
            "colorbar": {
             "outlinewidth": 0,
             "ticks": ""
            },
            "type": "contourcarpet"
           }
          ],
          "heatmap": [
           {
            "colorbar": {
             "outlinewidth": 0,
             "ticks": ""
            },
            "colorscale": [
             [
              0,
              "#0d0887"
             ],
             [
              0.1111111111111111,
              "#46039f"
             ],
             [
              0.2222222222222222,
              "#7201a8"
             ],
             [
              0.3333333333333333,
              "#9c179e"
             ],
             [
              0.4444444444444444,
              "#bd3786"
             ],
             [
              0.5555555555555556,
              "#d8576b"
             ],
             [
              0.6666666666666666,
              "#ed7953"
             ],
             [
              0.7777777777777778,
              "#fb9f3a"
             ],
             [
              0.8888888888888888,
              "#fdca26"
             ],
             [
              1,
              "#f0f921"
             ]
            ],
            "type": "heatmap"
           }
          ],
          "heatmapgl": [
           {
            "colorbar": {
             "outlinewidth": 0,
             "ticks": ""
            },
            "colorscale": [
             [
              0,
              "#0d0887"
             ],
             [
              0.1111111111111111,
              "#46039f"
             ],
             [
              0.2222222222222222,
              "#7201a8"
             ],
             [
              0.3333333333333333,
              "#9c179e"
             ],
             [
              0.4444444444444444,
              "#bd3786"
             ],
             [
              0.5555555555555556,
              "#d8576b"
             ],
             [
              0.6666666666666666,
              "#ed7953"
             ],
             [
              0.7777777777777778,
              "#fb9f3a"
             ],
             [
              0.8888888888888888,
              "#fdca26"
             ],
             [
              1,
              "#f0f921"
             ]
            ],
            "type": "heatmapgl"
           }
          ],
          "histogram": [
           {
            "marker": {
             "pattern": {
              "fillmode": "overlay",
              "size": 10,
              "solidity": 0.2
             }
            },
            "type": "histogram"
           }
          ],
          "histogram2d": [
           {
            "colorbar": {
             "outlinewidth": 0,
             "ticks": ""
            },
            "colorscale": [
             [
              0,
              "#0d0887"
             ],
             [
              0.1111111111111111,
              "#46039f"
             ],
             [
              0.2222222222222222,
              "#7201a8"
             ],
             [
              0.3333333333333333,
              "#9c179e"
             ],
             [
              0.4444444444444444,
              "#bd3786"
             ],
             [
              0.5555555555555556,
              "#d8576b"
             ],
             [
              0.6666666666666666,
              "#ed7953"
             ],
             [
              0.7777777777777778,
              "#fb9f3a"
             ],
             [
              0.8888888888888888,
              "#fdca26"
             ],
             [
              1,
              "#f0f921"
             ]
            ],
            "type": "histogram2d"
           }
          ],
          "histogram2dcontour": [
           {
            "colorbar": {
             "outlinewidth": 0,
             "ticks": ""
            },
            "colorscale": [
             [
              0,
              "#0d0887"
             ],
             [
              0.1111111111111111,
              "#46039f"
             ],
             [
              0.2222222222222222,
              "#7201a8"
             ],
             [
              0.3333333333333333,
              "#9c179e"
             ],
             [
              0.4444444444444444,
              "#bd3786"
             ],
             [
              0.5555555555555556,
              "#d8576b"
             ],
             [
              0.6666666666666666,
              "#ed7953"
             ],
             [
              0.7777777777777778,
              "#fb9f3a"
             ],
             [
              0.8888888888888888,
              "#fdca26"
             ],
             [
              1,
              "#f0f921"
             ]
            ],
            "type": "histogram2dcontour"
           }
          ],
          "mesh3d": [
           {
            "colorbar": {
             "outlinewidth": 0,
             "ticks": ""
            },
            "type": "mesh3d"
           }
          ],
          "parcoords": [
           {
            "line": {
             "colorbar": {
              "outlinewidth": 0,
              "ticks": ""
             }
            },
            "type": "parcoords"
           }
          ],
          "pie": [
           {
            "automargin": true,
            "type": "pie"
           }
          ],
          "scatter": [
           {
            "fillpattern": {
             "fillmode": "overlay",
             "size": 10,
             "solidity": 0.2
            },
            "type": "scatter"
           }
          ],
          "scatter3d": [
           {
            "line": {
             "colorbar": {
              "outlinewidth": 0,
              "ticks": ""
             }
            },
            "marker": {
             "colorbar": {
              "outlinewidth": 0,
              "ticks": ""
             }
            },
            "type": "scatter3d"
           }
          ],
          "scattercarpet": [
           {
            "marker": {
             "colorbar": {
              "outlinewidth": 0,
              "ticks": ""
             }
            },
            "type": "scattercarpet"
           }
          ],
          "scattergeo": [
           {
            "marker": {
             "colorbar": {
              "outlinewidth": 0,
              "ticks": ""
             }
            },
            "type": "scattergeo"
           }
          ],
          "scattergl": [
           {
            "marker": {
             "colorbar": {
              "outlinewidth": 0,
              "ticks": ""
             }
            },
            "type": "scattergl"
           }
          ],
          "scattermapbox": [
           {
            "marker": {
             "colorbar": {
              "outlinewidth": 0,
              "ticks": ""
             }
            },
            "type": "scattermapbox"
           }
          ],
          "scatterpolar": [
           {
            "marker": {
             "colorbar": {
              "outlinewidth": 0,
              "ticks": ""
             }
            },
            "type": "scatterpolar"
           }
          ],
          "scatterpolargl": [
           {
            "marker": {
             "colorbar": {
              "outlinewidth": 0,
              "ticks": ""
             }
            },
            "type": "scatterpolargl"
           }
          ],
          "scatterternary": [
           {
            "marker": {
             "colorbar": {
              "outlinewidth": 0,
              "ticks": ""
             }
            },
            "type": "scatterternary"
           }
          ],
          "surface": [
           {
            "colorbar": {
             "outlinewidth": 0,
             "ticks": ""
            },
            "colorscale": [
             [
              0,
              "#0d0887"
             ],
             [
              0.1111111111111111,
              "#46039f"
             ],
             [
              0.2222222222222222,
              "#7201a8"
             ],
             [
              0.3333333333333333,
              "#9c179e"
             ],
             [
              0.4444444444444444,
              "#bd3786"
             ],
             [
              0.5555555555555556,
              "#d8576b"
             ],
             [
              0.6666666666666666,
              "#ed7953"
             ],
             [
              0.7777777777777778,
              "#fb9f3a"
             ],
             [
              0.8888888888888888,
              "#fdca26"
             ],
             [
              1,
              "#f0f921"
             ]
            ],
            "type": "surface"
           }
          ],
          "table": [
           {
            "cells": {
             "fill": {
              "color": "#EBF0F8"
             },
             "line": {
              "color": "white"
             }
            },
            "header": {
             "fill": {
              "color": "#C8D4E3"
             },
             "line": {
              "color": "white"
             }
            },
            "type": "table"
           }
          ]
         },
         "layout": {
          "annotationdefaults": {
           "arrowcolor": "#2a3f5f",
           "arrowhead": 0,
           "arrowwidth": 1
          },
          "autotypenumbers": "strict",
          "coloraxis": {
           "colorbar": {
            "outlinewidth": 0,
            "ticks": ""
           }
          },
          "colorscale": {
           "diverging": [
            [
             0,
             "#8e0152"
            ],
            [
             0.1,
             "#c51b7d"
            ],
            [
             0.2,
             "#de77ae"
            ],
            [
             0.3,
             "#f1b6da"
            ],
            [
             0.4,
             "#fde0ef"
            ],
            [
             0.5,
             "#f7f7f7"
            ],
            [
             0.6,
             "#e6f5d0"
            ],
            [
             0.7,
             "#b8e186"
            ],
            [
             0.8,
             "#7fbc41"
            ],
            [
             0.9,
             "#4d9221"
            ],
            [
             1,
             "#276419"
            ]
           ],
           "sequential": [
            [
             0,
             "#0d0887"
            ],
            [
             0.1111111111111111,
             "#46039f"
            ],
            [
             0.2222222222222222,
             "#7201a8"
            ],
            [
             0.3333333333333333,
             "#9c179e"
            ],
            [
             0.4444444444444444,
             "#bd3786"
            ],
            [
             0.5555555555555556,
             "#d8576b"
            ],
            [
             0.6666666666666666,
             "#ed7953"
            ],
            [
             0.7777777777777778,
             "#fb9f3a"
            ],
            [
             0.8888888888888888,
             "#fdca26"
            ],
            [
             1,
             "#f0f921"
            ]
           ],
           "sequentialminus": [
            [
             0,
             "#0d0887"
            ],
            [
             0.1111111111111111,
             "#46039f"
            ],
            [
             0.2222222222222222,
             "#7201a8"
            ],
            [
             0.3333333333333333,
             "#9c179e"
            ],
            [
             0.4444444444444444,
             "#bd3786"
            ],
            [
             0.5555555555555556,
             "#d8576b"
            ],
            [
             0.6666666666666666,
             "#ed7953"
            ],
            [
             0.7777777777777778,
             "#fb9f3a"
            ],
            [
             0.8888888888888888,
             "#fdca26"
            ],
            [
             1,
             "#f0f921"
            ]
           ]
          },
          "colorway": [
           "#636efa",
           "#EF553B",
           "#00cc96",
           "#ab63fa",
           "#FFA15A",
           "#19d3f3",
           "#FF6692",
           "#B6E880",
           "#FF97FF",
           "#FECB52"
          ],
          "font": {
           "color": "#2a3f5f"
          },
          "geo": {
           "bgcolor": "white",
           "lakecolor": "white",
           "landcolor": "#E5ECF6",
           "showlakes": true,
           "showland": true,
           "subunitcolor": "white"
          },
          "hoverlabel": {
           "align": "left"
          },
          "hovermode": "closest",
          "mapbox": {
           "style": "light"
          },
          "paper_bgcolor": "white",
          "plot_bgcolor": "#E5ECF6",
          "polar": {
           "angularaxis": {
            "gridcolor": "white",
            "linecolor": "white",
            "ticks": ""
           },
           "bgcolor": "#E5ECF6",
           "radialaxis": {
            "gridcolor": "white",
            "linecolor": "white",
            "ticks": ""
           }
          },
          "scene": {
           "xaxis": {
            "backgroundcolor": "#E5ECF6",
            "gridcolor": "white",
            "gridwidth": 2,
            "linecolor": "white",
            "showbackground": true,
            "ticks": "",
            "zerolinecolor": "white"
           },
           "yaxis": {
            "backgroundcolor": "#E5ECF6",
            "gridcolor": "white",
            "gridwidth": 2,
            "linecolor": "white",
            "showbackground": true,
            "ticks": "",
            "zerolinecolor": "white"
           },
           "zaxis": {
            "backgroundcolor": "#E5ECF6",
            "gridcolor": "white",
            "gridwidth": 2,
            "linecolor": "white",
            "showbackground": true,
            "ticks": "",
            "zerolinecolor": "white"
           }
          },
          "shapedefaults": {
           "line": {
            "color": "#2a3f5f"
           }
          },
          "ternary": {
           "aaxis": {
            "gridcolor": "white",
            "linecolor": "white",
            "ticks": ""
           },
           "baxis": {
            "gridcolor": "white",
            "linecolor": "white",
            "ticks": ""
           },
           "bgcolor": "#E5ECF6",
           "caxis": {
            "gridcolor": "white",
            "linecolor": "white",
            "ticks": ""
           }
          },
          "title": {
           "x": 0.05
          },
          "xaxis": {
           "automargin": true,
           "gridcolor": "white",
           "linecolor": "white",
           "ticks": "",
           "title": {
            "standoff": 15
           },
           "zerolinecolor": "white",
           "zerolinewidth": 2
          },
          "yaxis": {
           "automargin": true,
           "gridcolor": "white",
           "linecolor": "white",
           "ticks": "",
           "title": {
            "standoff": 15
           },
           "zerolinecolor": "white",
           "zerolinewidth": 2
          }
         }
        },
        "width": 900,
        "xaxis": {
         "linecolor": "black",
         "linewidth": 2,
         "showline": true,
         "title": {
          "text": "Models"
         }
        },
        "yaxis": {
         "gridcolor": "lightgrey",
         "linecolor": "black",
         "linewidth": 2,
         "showline": true,
         "tickmode": "array",
         "ticktext": [
          "0.1",
          "0.3",
          "0.5",
          "0.7",
          "0.9"
         ],
         "tickvals": [
          0.1,
          0.3,
          0.5,
          0.7,
          0.9
         ],
         "title": {
          "text": "Accuracy"
         }
        }
       }
      }
     },
     "metadata": {},
     "output_type": "display_data"
    }
   ],
   "source": [
    "import plotly.graph_objects as go\n",
    "\n",
    "acc_exp_color = 'rgba(0,150,255,1)'\n",
    "acc_unexp_color = 'rgba(198,0,255,1)'\n",
    "\n",
    "fig = go.Figure()\n",
    "bar_width = 0.6\n",
    "for i, model in enumerate(listModels_sorted):\n",
    "    acc_un_2 = acc_unexp_sortred[i]\n",
    "    acc_exp_2 = acc_exp_sorted[i]\n",
    "    \n",
    "    if acc_un_2 < acc_exp_2:\n",
    "        fig.add_trace(go.Bar(x=[model], y=[acc_un_2], marker_color=acc_unexp_color, name=f'Acc unexpected {retrievalMode}', showlegend=i == 0 , width=bar_width))\n",
    "        fig.add_trace(go.Bar(x=[model], y=[acc_exp_2 - acc_un_2], marker_color=acc_exp_color, name=f'Acc expected {retrievalMode}', base=acc_un_2, showlegend=i == 0, width=bar_width))\n",
    "    elif acc_un_2 > acc_exp_2 :\n",
    "        fig.add_trace(go.Bar(x=[model], y=[acc_exp_2], marker_color=acc_exp_color, name=f'Acc expected {retrievalMode}', showlegend=i == 0, width=bar_width))\n",
    "        fig.add_trace(go.Bar(x=[model], y=[acc_un_2 - acc_exp_2], marker_color=acc_unexp_color, name=f'Acc unexpected {retrievalMode}', base=acc_exp_2, showlegend=i == 0, width=bar_width))\n",
    "\n",
    "\n",
    "\n",
    "        \n",
    "fig.add_trace(go.Scatter(\n",
    "    x=list(dictModels.values()),  \n",
    "    y=[sum(acc_exp_sorted)/len(acc_exp_sorted)] * len(listModels_sorted),  \n",
    "    mode='lines',  \n",
    "    name=f'Average acc expected {retrievalMode}', \n",
    "    line=dict(\n",
    "        dash='dash',  \n",
    "        color='black',  \n",
    "    )\n",
    "))\n",
    "\n",
    "\n",
    "fig.add_trace(go.Scatter(\n",
    "    x=list(dictModels.values()),  \n",
    "    y=[sum(acc_unexp_sortred)/len(acc_unexp_sortred)] * len(listModels_sorted),  \n",
    "    mode='lines',  \n",
    "    name=f'Average acc unexpected {retrievalMode}',  \n",
    "    line=dict(\n",
    "        dash='dash', \n",
    "        color='red',  \n",
    "    )\n",
    "))\n",
    "\n",
    "fig.update_layout(\n",
    "    paper_bgcolor='rgba(255,255,255,255)',\n",
    "    plot_bgcolor='rgba(255,255,255,255)',\n",
    "    \n",
    "    xaxis=dict(\n",
    "        title='Models',\n",
    "        showline=True,  \n",
    "        linewidth=2,  \n",
    "        linecolor='black',  \n",
    "\n",
    "    ),\n",
    "    yaxis=dict(\n",
    "        title='Accuracy',\n",
    "        showline=True, \n",
    "        linewidth=2,  \n",
    "        linecolor='black',  \n",
    "        tickmode='array',  \n",
    "        tickvals=[0.1, 0.3, 0.5, 0.7, 0.9],  \n",
    "        ticktext=['0.1', '0.3', '0.5', '0.7', '0.9'],  \n",
    "        gridcolor='lightgrey',  \n",
    "    ),\n",
    "\n",
    "    barmode='stack',\n",
    "    width=900,\n",
    "    height=600,\n",
    "    legend=dict(\n",
    "        bgcolor='rgba(255,255,255,0.5)',  \n",
    "        bordercolor='Black',\n",
    "        x=0.01, \n",
    "        y=0.99,\n",
    "        xanchor='left',\n",
    "        yanchor='top',\n",
    "    )\n",
    ")\n",
    "\n",
    "\n",
    "fig.show(config={'displayModeBar': True, 'staticPlot': True})"
   ]
  },
  {
   "cell_type": "code",
   "execution_count": null,
   "metadata": {},
   "outputs": [],
   "source": []
  },
  {
   "cell_type": "code",
   "execution_count": null,
   "metadata": {},
   "outputs": [],
   "source": []
  }
 ],
 "metadata": {
  "kernelspec": {
   "display_name": "base",
   "language": "python",
   "name": "python3"
  },
  "language_info": {
   "codemirror_mode": {
    "name": "ipython",
    "version": 3
   },
   "file_extension": ".py",
   "mimetype": "text/x-python",
   "name": "python",
   "nbconvert_exporter": "python",
   "pygments_lexer": "ipython3",
   "version": "3.11.3"
  }
 },
 "nbformat": 4,
 "nbformat_minor": 2
}
