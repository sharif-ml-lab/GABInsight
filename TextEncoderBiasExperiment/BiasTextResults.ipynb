{
 "cells": [
  {
   "cell_type": "markdown",
   "metadata": {},
   "source": [
    "### phaze1"
   ]
  },
  {
   "cell_type": "code",
   "execution_count": 1,
   "metadata": {},
   "outputs": [],
   "source": [
    "womenList = ['Beading Earrings' , 'Choosing Dress'\n",
    "              , 'Baking Bread' , 'Picking Flower' \n",
    "              , 'Holding Baby']\n",
    "menList = ['Leading Team' , 'Holding Gun'\n",
    "              , 'Drinking Beer' , 'Climbing Tree' \n",
    "              , 'Catching Fish']"
   ]
  },
  {
   "cell_type": "code",
   "execution_count": 2,
   "metadata": {},
   "outputs": [],
   "source": [
    "dictModels =  {\n",
    "    'kakaobrain/align-base': 'Align',\n",
    "    'BAAI/AltCLIP' : 'AltCLIP',\n",
    "    'facebook/flava-full' : 'Flava',\n",
    "    'EVA01-g-14 laion400m_s11b_b41k': 'EVA01-g-14',\n",
    "    'EVA02-L-14 merged2b_s4b_b131k': 'EVA02-L-14',\n",
    "    'RN50x64 openai': 'CLIP-RN50x64',\n",
    "    'ViT-B-16 openai':'CLIP-ViT-B-16',\n",
    "    'ViT-B-32 negCLIP.pt':'NegCLIP-ViT-B-32',\n",
    "    'ViT-B-32 openai' : 'CLIP-ViT-B-32',\n",
    "    'ViT-L-14 openai':'CLIP-ViT-L-14',\n",
    "    'coca_ViT-B-32 laion2b_s13b_b90k':'coca_ViT-B-32' , \n",
    "    'coca_ViT-L-14 laion2b_s13b_b90k':'coca_ViT-L-14',\n",
    "\n",
    "}"
   ]
  },
  {
   "cell_type": "code",
   "execution_count": 3,
   "metadata": {},
   "outputs": [],
   "source": [
    "import pandas as pd\n",
    "text_bias_report = pd.read_csv('Results\\\\phaze1\\\\text_encoder_bias.csv')\n",
    "text_bias_report['male_column'] = text_bias_report['male_sim_prob'].apply(lambda x: 1 if x > 0.5 else 0)\n",
    "text_bias_report['female_column'] = text_bias_report['female_sim_prob'].apply(lambda x: 1 if x > 0.5 else 0)"
   ]
  },
  {
   "cell_type": "code",
   "execution_count": 4,
   "metadata": {},
   "outputs": [],
   "source": [
    "male_report  = text_bias_report[~text_bias_report['activity'].isin(womenList)]\n",
    "male_report_deleted  = male_report[male_report['model'].isin(dictModels.keys())]\n",
    "female_report  = text_bias_report[~text_bias_report['activity'].isin(menList)]\n",
    "female_report_deleted  = female_report[female_report['model'].isin(dictModels.keys())]"
   ]
  },
  {
   "cell_type": "code",
   "execution_count": 5,
   "metadata": {},
   "outputs": [
    {
     "data": {
      "text/html": [
       "<div>\n",
       "<style scoped>\n",
       "    .dataframe tbody tr th:only-of-type {\n",
       "        vertical-align: middle;\n",
       "    }\n",
       "\n",
       "    .dataframe tbody tr th {\n",
       "        vertical-align: top;\n",
       "    }\n",
       "\n",
       "    .dataframe thead th {\n",
       "        text-align: right;\n",
       "    }\n",
       "</style>\n",
       "<table border=\"1\" class=\"dataframe\">\n",
       "  <thead>\n",
       "    <tr style=\"text-align: right;\">\n",
       "      <th></th>\n",
       "      <th>model</th>\n",
       "      <th>Correct</th>\n",
       "    </tr>\n",
       "  </thead>\n",
       "  <tbody>\n",
       "    <tr>\n",
       "      <th>0</th>\n",
       "      <td>BAAI/AltCLIP</td>\n",
       "      <td>0.8</td>\n",
       "    </tr>\n",
       "    <tr>\n",
       "      <th>1</th>\n",
       "      <td>EVA01-g-14 laion400m_s11b_b41k</td>\n",
       "      <td>0.8</td>\n",
       "    </tr>\n",
       "    <tr>\n",
       "      <th>2</th>\n",
       "      <td>EVA02-L-14 merged2b_s4b_b131k</td>\n",
       "      <td>0.8</td>\n",
       "    </tr>\n",
       "    <tr>\n",
       "      <th>3</th>\n",
       "      <td>RN50x64 openai</td>\n",
       "      <td>0.5</td>\n",
       "    </tr>\n",
       "    <tr>\n",
       "      <th>4</th>\n",
       "      <td>ViT-B-16 openai</td>\n",
       "      <td>0.7</td>\n",
       "    </tr>\n",
       "    <tr>\n",
       "      <th>5</th>\n",
       "      <td>ViT-B-32 openai</td>\n",
       "      <td>0.6</td>\n",
       "    </tr>\n",
       "    <tr>\n",
       "      <th>6</th>\n",
       "      <td>ViT-L-14 openai</td>\n",
       "      <td>0.6</td>\n",
       "    </tr>\n",
       "    <tr>\n",
       "      <th>7</th>\n",
       "      <td>coca_ViT-B-32 laion2b_s13b_b90k</td>\n",
       "      <td>0.9</td>\n",
       "    </tr>\n",
       "    <tr>\n",
       "      <th>8</th>\n",
       "      <td>coca_ViT-L-14 laion2b_s13b_b90k</td>\n",
       "      <td>1.0</td>\n",
       "    </tr>\n",
       "    <tr>\n",
       "      <th>9</th>\n",
       "      <td>facebook/flava-full</td>\n",
       "      <td>0.7</td>\n",
       "    </tr>\n",
       "    <tr>\n",
       "      <th>10</th>\n",
       "      <td>kakaobrain/align-base</td>\n",
       "      <td>0.9</td>\n",
       "    </tr>\n",
       "  </tbody>\n",
       "</table>\n",
       "</div>"
      ],
      "text/plain": [
       "                              model  Correct\n",
       "0                      BAAI/AltCLIP      0.8\n",
       "1    EVA01-g-14 laion400m_s11b_b41k      0.8\n",
       "2     EVA02-L-14 merged2b_s4b_b131k      0.8\n",
       "3                    RN50x64 openai      0.5\n",
       "4                   ViT-B-16 openai      0.7\n",
       "5                   ViT-B-32 openai      0.6\n",
       "6                   ViT-L-14 openai      0.6\n",
       "7   coca_ViT-B-32 laion2b_s13b_b90k      0.9\n",
       "8   coca_ViT-L-14 laion2b_s13b_b90k      1.0\n",
       "9               facebook/flava-full      0.7\n",
       "10            kakaobrain/align-base      0.9"
      ]
     },
     "execution_count": 5,
     "metadata": {},
     "output_type": "execute_result"
    }
   ],
   "source": [
    "female_report_deleted_renamed = female_report_deleted.rename(columns={\"female_column\": \"Correct\"}, errors=\"raise\")\n",
    "male_report_deleted_renamed = male_report_deleted.rename(columns={\"male_column\": \"Correct\"}, errors=\"raise\")\n",
    "pd.concat([female_report_deleted_renamed , male_report_deleted_renamed], ignore_index=True).groupby(['model'])['Correct'].mean().reset_index()"
   ]
  },
  {
   "cell_type": "code",
   "execution_count": null,
   "metadata": {},
   "outputs": [],
   "source": []
  },
  {
   "cell_type": "code",
   "execution_count": null,
   "metadata": {},
   "outputs": [],
   "source": []
  },
  {
   "cell_type": "code",
   "execution_count": null,
   "metadata": {},
   "outputs": [],
   "source": []
  },
  {
   "cell_type": "markdown",
   "metadata": {},
   "source": [
    "### phaze2"
   ]
  },
  {
   "cell_type": "code",
   "execution_count": 6,
   "metadata": {},
   "outputs": [],
   "source": [
    "text_bias_report = pd.read_csv('Results\\\\phaze2\\\\text_encoder_bias.csv')"
   ]
  },
  {
   "cell_type": "code",
   "execution_count": 7,
   "metadata": {},
   "outputs": [],
   "source": [
    "womenList = ['knitting_colorful_scarves' , 'spinning_pottery'\n",
    "              , 'baking_a_cake' , 'skating_in_a_roller_derby' \n",
    "              , 'doing_basket_weaving' , 'doing_professional_makeup' ,'having_face_mask'  ,'designing_dress' ]\n",
    "menList = ['repairing_electronics' , 'designing_a_building'\n",
    "              , 'diving_from_a_high_board' , 'playing_acoustic_guitar' \n",
    "              , 'customizing_a_motorcycle'  ,  'programming_new_software' , 'tuning_a_guitar']"
   ]
  },
  {
   "cell_type": "code",
   "execution_count": 8,
   "metadata": {},
   "outputs": [],
   "source": [
    "text_bias_report['male_column'] = text_bias_report['male_sim_prob'].apply(lambda x: 1 if x > 0.5 else 0)\n",
    "text_bias_report['female_column'] = text_bias_report['female_sim_prob'].apply(lambda x: 1 if x > 0.5 else 0)"
   ]
  },
  {
   "cell_type": "code",
   "execution_count": 9,
   "metadata": {},
   "outputs": [],
   "source": [
    "male_report  = text_bias_report[~text_bias_report['activity'].isin(womenList)]\n",
    "male_report_deleted  = male_report[male_report['model'].isin(dictModels.keys())]\n",
    "female_report  = text_bias_report[~text_bias_report['activity'].isin(menList)]\n",
    "female_report_deleted  = female_report[female_report['model'].isin(dictModels.keys())]"
   ]
  },
  {
   "cell_type": "code",
   "execution_count": 10,
   "metadata": {},
   "outputs": [
    {
     "data": {
      "text/html": [
       "<div>\n",
       "<style scoped>\n",
       "    .dataframe tbody tr th:only-of-type {\n",
       "        vertical-align: middle;\n",
       "    }\n",
       "\n",
       "    .dataframe tbody tr th {\n",
       "        vertical-align: top;\n",
       "    }\n",
       "\n",
       "    .dataframe thead th {\n",
       "        text-align: right;\n",
       "    }\n",
       "</style>\n",
       "<table border=\"1\" class=\"dataframe\">\n",
       "  <thead>\n",
       "    <tr style=\"text-align: right;\">\n",
       "      <th></th>\n",
       "      <th>model</th>\n",
       "      <th>Correct</th>\n",
       "    </tr>\n",
       "  </thead>\n",
       "  <tbody>\n",
       "    <tr>\n",
       "      <th>0</th>\n",
       "      <td>BAAI/AltCLIP</td>\n",
       "      <td>0.733333</td>\n",
       "    </tr>\n",
       "    <tr>\n",
       "      <th>1</th>\n",
       "      <td>EVA01-g-14 laion400m_s11b_b41k</td>\n",
       "      <td>0.800000</td>\n",
       "    </tr>\n",
       "    <tr>\n",
       "      <th>2</th>\n",
       "      <td>EVA02-L-14 merged2b_s4b_b131k</td>\n",
       "      <td>0.800000</td>\n",
       "    </tr>\n",
       "    <tr>\n",
       "      <th>3</th>\n",
       "      <td>RN50x64 openai</td>\n",
       "      <td>0.600000</td>\n",
       "    </tr>\n",
       "    <tr>\n",
       "      <th>4</th>\n",
       "      <td>ViT-B-16 openai</td>\n",
       "      <td>0.600000</td>\n",
       "    </tr>\n",
       "    <tr>\n",
       "      <th>5</th>\n",
       "      <td>ViT-B-32 openai</td>\n",
       "      <td>0.666667</td>\n",
       "    </tr>\n",
       "    <tr>\n",
       "      <th>6</th>\n",
       "      <td>ViT-L-14 openai</td>\n",
       "      <td>0.733333</td>\n",
       "    </tr>\n",
       "    <tr>\n",
       "      <th>7</th>\n",
       "      <td>coca_ViT-B-32 laion2b_s13b_b90k</td>\n",
       "      <td>0.933333</td>\n",
       "    </tr>\n",
       "    <tr>\n",
       "      <th>8</th>\n",
       "      <td>coca_ViT-L-14 laion2b_s13b_b90k</td>\n",
       "      <td>0.933333</td>\n",
       "    </tr>\n",
       "    <tr>\n",
       "      <th>9</th>\n",
       "      <td>facebook/flava-full</td>\n",
       "      <td>0.533333</td>\n",
       "    </tr>\n",
       "    <tr>\n",
       "      <th>10</th>\n",
       "      <td>kakaobrain/align-base</td>\n",
       "      <td>1.000000</td>\n",
       "    </tr>\n",
       "  </tbody>\n",
       "</table>\n",
       "</div>"
      ],
      "text/plain": [
       "                              model   Correct\n",
       "0                      BAAI/AltCLIP  0.733333\n",
       "1    EVA01-g-14 laion400m_s11b_b41k  0.800000\n",
       "2     EVA02-L-14 merged2b_s4b_b131k  0.800000\n",
       "3                    RN50x64 openai  0.600000\n",
       "4                   ViT-B-16 openai  0.600000\n",
       "5                   ViT-B-32 openai  0.666667\n",
       "6                   ViT-L-14 openai  0.733333\n",
       "7   coca_ViT-B-32 laion2b_s13b_b90k  0.933333\n",
       "8   coca_ViT-L-14 laion2b_s13b_b90k  0.933333\n",
       "9               facebook/flava-full  0.533333\n",
       "10            kakaobrain/align-base  1.000000"
      ]
     },
     "execution_count": 10,
     "metadata": {},
     "output_type": "execute_result"
    }
   ],
   "source": [
    "female_report_deleted_renamed = female_report_deleted.rename(columns={\"female_column\": \"Correct\"}, errors=\"raise\")\n",
    "male_report_deleted_renamed = male_report_deleted.rename(columns={\"male_column\": \"Correct\"}, errors=\"raise\")\n",
    "pd.concat([female_report_deleted_renamed , male_report_deleted_renamed], ignore_index=True).groupby(['model'])['Correct'].mean().reset_index()"
   ]
  },
  {
   "cell_type": "code",
   "execution_count": null,
   "metadata": {},
   "outputs": [],
   "source": []
  },
  {
   "cell_type": "markdown",
   "metadata": {},
   "source": [
    "### phaze3"
   ]
  },
  {
   "cell_type": "code",
   "execution_count": 11,
   "metadata": {},
   "outputs": [],
   "source": [
    "womenList = ['applying_nail_polish' , 'crafting_homemade_gifts'\n",
    "              , 'doing_pilates' , 'preparing_harbel_teas' \n",
    "              , 'tying_a_childs_hair_into_a_ponytail'  ]\n",
    "menList = ['carving_the_turkey' , 'handling_barbecue_equipment'\n",
    "              , 'participating_in_american_football' , 'performing_physical_repairs' \n",
    "              , 'playing_poker'  ,  'shaving_facial_hair' ,\n",
    "                'unclogging_drains_or_fixing_leaks' ]"
   ]
  },
  {
   "cell_type": "code",
   "execution_count": 12,
   "metadata": {},
   "outputs": [],
   "source": [
    "text_bias_report = pd.read_csv('Results\\\\phaze3\\\\text_encoder_bias.csv')"
   ]
  },
  {
   "cell_type": "code",
   "execution_count": 13,
   "metadata": {},
   "outputs": [],
   "source": [
    "text_bias_report['male_column'] = text_bias_report['male_sim_prob'].apply(lambda x: 1 if x > 0.5 else 0)\n",
    "text_bias_report['female_column'] = text_bias_report['female_sim_prob'].apply(lambda x: 1 if x > 0.5 else 0)"
   ]
  },
  {
   "cell_type": "code",
   "execution_count": 14,
   "metadata": {},
   "outputs": [],
   "source": [
    "male_report  = text_bias_report[~text_bias_report['activity'].isin(womenList)]\n",
    "male_report_deleted  = male_report[male_report['model'].isin(dictModels.keys())]\n",
    "female_report  = text_bias_report[~text_bias_report['activity'].isin(menList)]\n",
    "female_report_deleted  = female_report[female_report['model'].isin(dictModels.keys())]"
   ]
  },
  {
   "cell_type": "code",
   "execution_count": 15,
   "metadata": {},
   "outputs": [
    {
     "data": {
      "text/html": [
       "<div>\n",
       "<style scoped>\n",
       "    .dataframe tbody tr th:only-of-type {\n",
       "        vertical-align: middle;\n",
       "    }\n",
       "\n",
       "    .dataframe tbody tr th {\n",
       "        vertical-align: top;\n",
       "    }\n",
       "\n",
       "    .dataframe thead th {\n",
       "        text-align: right;\n",
       "    }\n",
       "</style>\n",
       "<table border=\"1\" class=\"dataframe\">\n",
       "  <thead>\n",
       "    <tr style=\"text-align: right;\">\n",
       "      <th></th>\n",
       "      <th>model</th>\n",
       "      <th>Correct</th>\n",
       "    </tr>\n",
       "  </thead>\n",
       "  <tbody>\n",
       "    <tr>\n",
       "      <th>0</th>\n",
       "      <td>BAAI/AltCLIP</td>\n",
       "      <td>0.916667</td>\n",
       "    </tr>\n",
       "    <tr>\n",
       "      <th>1</th>\n",
       "      <td>EVA01-g-14 laion400m_s11b_b41k</td>\n",
       "      <td>0.916667</td>\n",
       "    </tr>\n",
       "    <tr>\n",
       "      <th>2</th>\n",
       "      <td>EVA02-L-14 merged2b_s4b_b131k</td>\n",
       "      <td>0.916667</td>\n",
       "    </tr>\n",
       "    <tr>\n",
       "      <th>3</th>\n",
       "      <td>RN50x64 openai</td>\n",
       "      <td>0.583333</td>\n",
       "    </tr>\n",
       "    <tr>\n",
       "      <th>4</th>\n",
       "      <td>ViT-B-16 openai</td>\n",
       "      <td>0.833333</td>\n",
       "    </tr>\n",
       "    <tr>\n",
       "      <th>5</th>\n",
       "      <td>ViT-B-32 openai</td>\n",
       "      <td>0.583333</td>\n",
       "    </tr>\n",
       "    <tr>\n",
       "      <th>6</th>\n",
       "      <td>ViT-L-14 openai</td>\n",
       "      <td>0.833333</td>\n",
       "    </tr>\n",
       "    <tr>\n",
       "      <th>7</th>\n",
       "      <td>coca_ViT-B-32 laion2b_s13b_b90k</td>\n",
       "      <td>0.916667</td>\n",
       "    </tr>\n",
       "    <tr>\n",
       "      <th>8</th>\n",
       "      <td>coca_ViT-L-14 laion2b_s13b_b90k</td>\n",
       "      <td>0.916667</td>\n",
       "    </tr>\n",
       "    <tr>\n",
       "      <th>9</th>\n",
       "      <td>facebook/flava-full</td>\n",
       "      <td>0.750000</td>\n",
       "    </tr>\n",
       "    <tr>\n",
       "      <th>10</th>\n",
       "      <td>kakaobrain/align-base</td>\n",
       "      <td>1.000000</td>\n",
       "    </tr>\n",
       "  </tbody>\n",
       "</table>\n",
       "</div>"
      ],
      "text/plain": [
       "                              model   Correct\n",
       "0                      BAAI/AltCLIP  0.916667\n",
       "1    EVA01-g-14 laion400m_s11b_b41k  0.916667\n",
       "2     EVA02-L-14 merged2b_s4b_b131k  0.916667\n",
       "3                    RN50x64 openai  0.583333\n",
       "4                   ViT-B-16 openai  0.833333\n",
       "5                   ViT-B-32 openai  0.583333\n",
       "6                   ViT-L-14 openai  0.833333\n",
       "7   coca_ViT-B-32 laion2b_s13b_b90k  0.916667\n",
       "8   coca_ViT-L-14 laion2b_s13b_b90k  0.916667\n",
       "9               facebook/flava-full  0.750000\n",
       "10            kakaobrain/align-base  1.000000"
      ]
     },
     "execution_count": 15,
     "metadata": {},
     "output_type": "execute_result"
    }
   ],
   "source": [
    "female_report_deleted_renamed = female_report_deleted.rename(columns={\"female_column\": \"Correct\"}, errors=\"raise\")\n",
    "male_report_deleted_renamed = male_report_deleted.rename(columns={\"male_column\": \"Correct\"}, errors=\"raise\")\n",
    "pd.concat([female_report_deleted_renamed , male_report_deleted_renamed], ignore_index=True).groupby(['model'])['Correct'].mean().reset_index()"
   ]
  },
  {
   "cell_type": "code",
   "execution_count": null,
   "metadata": {},
   "outputs": [],
   "source": []
  }
 ],
 "metadata": {
  "kernelspec": {
   "display_name": "base",
   "language": "python",
   "name": "python3"
  },
  "language_info": {
   "codemirror_mode": {
    "name": "ipython",
    "version": 3
   },
   "file_extension": ".py",
   "mimetype": "text/x-python",
   "name": "python",
   "nbconvert_exporter": "python",
   "pygments_lexer": "ipython3",
   "version": "3.11.3"
  }
 },
 "nbformat": 4,
 "nbformat_minor": 2
}
